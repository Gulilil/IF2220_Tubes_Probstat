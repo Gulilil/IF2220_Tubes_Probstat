{
 "cells": [
  {
   "cell_type": "markdown",
   "metadata": {},
   "source": [
    "# Tugas Besar IF2220 - Probabilitas dan Statistika\n",
    "### <font color='#3776ab'>Part 5: Two Samples Hypothesis</font>\n",
    "Anggota: <br>\n",
    "13521116 - Juan Christopher Santoso <br>\n",
    "13521162 - Antonio Natthan Krishna <br>"
   ]
  },
  {
   "cell_type": "markdown",
   "metadata": {},
   "source": [
    "#### All testing use significant of 5% "
   ]
  },
  {
   "cell_type": "code",
   "execution_count": 1,
   "metadata": {
    "vscode": {
     "languageId": "r"
    }
   },
   "outputs": [
    {
     "data": {
      "text/html": [
       "<table class=\"dataframe\">\n",
       "<caption>A matrix: 2 × 2 of type chr</caption>\n",
       "<thead>\n",
       "\t<tr><th scope=col>properties</th><th scope=col>value</th></tr>\n",
       "</thead>\n",
       "<tbody>\n",
       "\t<tr><td>Rows   </td><td>1000</td></tr>\n",
       "\t<tr><td>Columns</td><td>12  </td></tr>\n",
       "</tbody>\n",
       "</table>\n"
      ],
      "text/latex": [
       "A matrix: 2 × 2 of type chr\n",
       "\\begin{tabular}{ll}\n",
       " properties & value\\\\\n",
       "\\hline\n",
       "\t Rows    & 1000\\\\\n",
       "\t Columns & 12  \\\\\n",
       "\\end{tabular}\n"
      ],
      "text/markdown": [
       "\n",
       "A matrix: 2 × 2 of type chr\n",
       "\n",
       "| properties | value |\n",
       "|---|---|\n",
       "| Rows    | 1000 |\n",
       "| Columns | 12   |\n",
       "\n"
      ],
      "text/plain": [
       "     properties value\n",
       "[1,] Rows       1000 \n",
       "[2,] Columns    12   "
      ]
     },
     "metadata": {},
     "output_type": "display_data"
    },
    {
     "data": {
      "text/html": [
       "<table class=\"dataframe\">\n",
       "<caption>A matrix: 12 × 2 of type chr</caption>\n",
       "<thead>\n",
       "\t<tr><th scope=col>columns_index</th><th scope=col>columns_name</th></tr>\n",
       "</thead>\n",
       "<tbody>\n",
       "\t<tr><td>1 </td><td>fixed.acidity       </td></tr>\n",
       "\t<tr><td>2 </td><td>volatile.acidity    </td></tr>\n",
       "\t<tr><td>3 </td><td>citric.acid         </td></tr>\n",
       "\t<tr><td>4 </td><td>residual.sugar      </td></tr>\n",
       "\t<tr><td>5 </td><td>chlorides           </td></tr>\n",
       "\t<tr><td>6 </td><td>free.sulfur.dioxide </td></tr>\n",
       "\t<tr><td>7 </td><td>total.sulfur.dioxide</td></tr>\n",
       "\t<tr><td>8 </td><td>density             </td></tr>\n",
       "\t<tr><td>9 </td><td>pH                  </td></tr>\n",
       "\t<tr><td>10</td><td>sulphates           </td></tr>\n",
       "\t<tr><td>11</td><td>alcohol             </td></tr>\n",
       "\t<tr><td>12</td><td>quality             </td></tr>\n",
       "</tbody>\n",
       "</table>\n"
      ],
      "text/latex": [
       "A matrix: 12 × 2 of type chr\n",
       "\\begin{tabular}{ll}\n",
       " columns\\_index & columns\\_name\\\\\n",
       "\\hline\n",
       "\t 1  & fixed.acidity       \\\\\n",
       "\t 2  & volatile.acidity    \\\\\n",
       "\t 3  & citric.acid         \\\\\n",
       "\t 4  & residual.sugar      \\\\\n",
       "\t 5  & chlorides           \\\\\n",
       "\t 6  & free.sulfur.dioxide \\\\\n",
       "\t 7  & total.sulfur.dioxide\\\\\n",
       "\t 8  & density             \\\\\n",
       "\t 9  & pH                  \\\\\n",
       "\t 10 & sulphates           \\\\\n",
       "\t 11 & alcohol             \\\\\n",
       "\t 12 & quality             \\\\\n",
       "\\end{tabular}\n"
      ],
      "text/markdown": [
       "\n",
       "A matrix: 12 × 2 of type chr\n",
       "\n",
       "| columns_index | columns_name |\n",
       "|---|---|\n",
       "| 1  | fixed.acidity        |\n",
       "| 2  | volatile.acidity     |\n",
       "| 3  | citric.acid          |\n",
       "| 4  | residual.sugar       |\n",
       "| 5  | chlorides            |\n",
       "| 6  | free.sulfur.dioxide  |\n",
       "| 7  | total.sulfur.dioxide |\n",
       "| 8  | density              |\n",
       "| 9  | pH                   |\n",
       "| 10 | sulphates            |\n",
       "| 11 | alcohol              |\n",
       "| 12 | quality              |\n",
       "\n"
      ],
      "text/plain": [
       "      columns_index columns_name        \n",
       " [1,] 1             fixed.acidity       \n",
       " [2,] 2             volatile.acidity    \n",
       " [3,] 3             citric.acid         \n",
       " [4,] 4             residual.sugar      \n",
       " [5,] 5             chlorides           \n",
       " [6,] 6             free.sulfur.dioxide \n",
       " [7,] 7             total.sulfur.dioxide\n",
       " [8,] 8             density             \n",
       " [9,] 9             pH                  \n",
       "[10,] 10            sulphates           \n",
       "[11,] 11            alcohol             \n",
       "[12,] 12            quality             "
      ]
     },
     "metadata": {},
     "output_type": "display_data"
    }
   ],
   "source": [
    "# Import Dataset\n",
    "df <- read.csv(\"..\\\\test\\\\anggur.csv\")\n",
    "\n",
    "# Data Statistics\n",
    "properties <- c(\"Rows\", \"Columns\")\n",
    "value <- c(nrow(df), ncol(df))\n",
    "cbind(properties, value)\n",
    "\n",
    "# List of Columns\n",
    "columns_index <- c(1:ncol(df))\n",
    "columns_name <- colnames(df)\n",
    "\n",
    "# Display List\n",
    "cbind(columns_index, columns_name)\n",
    "\n",
    "# Significance\n",
    "Significance <- 0.05"
   ]
  },
  {
   "cell_type": "markdown",
   "metadata": {},
   "source": [
    "1. Data kolom fixed acidity dibagi 2 sama rata: bagian awal dan bagian akhir kolom. Benarkah rata-rata kedua bagian tersebut sama?"
   ]
  },
  {
   "cell_type": "code",
   "execution_count": 2,
   "metadata": {
    "vscode": {
     "languageId": "r"
    }
   },
   "outputs": [
    {
     "name": "stdout",
     "output_type": "stream",
     "text": [
      "T  : 0.02604107 \n",
      "v  : 998 \n",
      "t0 low : -1.646382 \n",
      "t0 high : 1.646382 \n",
      "P-value: 0.4896149"
     ]
    },
    {
     "data": {
      "image/png": "[encoded data removed]",
      "text/plain": [
       "plot without title"
      ]
     },
     "metadata": {
      "image/png": {
       "height": 420,
       "width": 420
      }
     },
     "output_type": "display_data"
    }
   ],
   "source": [
    "# Divide columns fixed acidity into 2 parts\n",
    "numrow <- as.numeric(nrow(df)/2)\n",
    "first_half <- df[1:numrow,]\n",
    "second_half <- df[numrow+1:numrow,]\n",
    "\n",
    "# Mean and Standard Deviation each part\n",
    "first_half_mean <- mean(first_half[,\"fixed.acidity\"])\n",
    "second_half_mean <- mean(second_half[,\"fixed.acidity\"])\n",
    "first_half_sd <- sd(first_half[,\"fixed.acidity\"])\n",
    "second_half_sd <- sd(second_half[,\"fixed.acidity\"])\n",
    "\n",
    "T <- (first_half_mean - second_half_mean)/sqrt((first_half_sd^2)/numrow + (second_half_sd^2)/numrow)\n",
    "v <- round(((first_half_sd^2)/numrow + (second_half_sd^2)/numrow) ^ 2 / ((((first_half_sd^2)/numrow)^2 / (numrow -1)) + (((second_half_sd^2)/numrow)^2 / (numrow -1))))\n",
    "\n",
    "t0low <- qt(0.05, v) \n",
    "t0high <- qt(0.05, v, lower.tail = FALSE) \n",
    "\n",
    "cat(\"T  :\", T, \"\\n\")\n",
    "cat(\"v  :\", v, \"\\n\")\n",
    "cat(\"t0 low :\", t0low, \"\\n\")\n",
    "cat(\"t0 high :\", t0high, \"\\n\")\n",
    "cat(\"P-value:\", pt(T, v, lower.tail = FALSE))\n",
    "\n",
    "# Plotting Critical Area\n",
    "x <- seq(-5, 5, 0.1)\n",
    "y <- dt(x, nrow(df))\n",
    "plot(x, y, type = \"l\")\n",
    "\n",
    "x2 <- seq(-5,t0low,0.01)\n",
    "y2 <- dt(x2, nrow(df)-1)\n",
    "x2 = c(-5,x2,t0low)\n",
    "y2 = c(0,y2,0)\n",
    "polygon(x2,y2, col=\"red\", border=NA)\n",
    "\n",
    "x3 <- seq(t0high,5,0.01)\n",
    "y3 <- dt(x3, nrow(df)-1)\n",
    "x3 = c(x3,5,t0high)\n",
    "y3 = c(0,y3,0)\n",
    "polygon(x3,y3, col=\"red\", border=NA)\n",
    "\n",
    "lines(T, 0, type = \"o\", pch=21, bg=\"#28284d\", cex=3, lwd=3, col=\"orange\")"
   ]
  },
  {
   "cell_type": "markdown",
   "metadata": {},
   "source": [
    "a = mean first half <br>\n",
    "b = mean second half\n",
    "\n",
    "H0 = (a == b) <br>\n",
    "H1 = (a != b) <br>\n",
    "\n",
    "Use the significance 0.05 <br>\n",
    "Using t distribution with degree 998, <br>\n",
    "Critical area : t < t(-0.025), t > t(0.025) <br>\n",
    "Since t(-0.025) < t < t(0.025) (and p value > significance) which means t is NOT located in critical area. Hence, we accept H0. <br>\n",
    "\n",
    "Conclusion: mean first half is SAME as mean second half"
   ]
  },
  {
   "cell_type": "markdown",
   "metadata": {},
   "source": [
    "2. Data kolom chlorides dibagi 2 sama rata: bagian awal dan bagian akhir kolom. Benarkah rata-rata bagian awal lebih besar daripada bagian akhir sebesar 0.001?"
   ]
  },
  {
   "cell_type": "code",
   "execution_count": 3,
   "metadata": {
    "vscode": {
     "languageId": "r"
    }
   },
   "outputs": [
    {
     "name": "stdout",
     "output_type": "stream",
     "text": [
      "T  : -0.4673171 \n",
      "v  : 998 \n",
      "t0 low : -1.646382 \n",
      "t0 high : 1.646382 \n",
      "P-value: 0.6798125"
     ]
    },
    {
     "data": {
      "image/png": "[encoded data removed]",
      "text/plain": [
       "plot without title"
      ]
     },
     "metadata": {
      "image/png": {
       "height": 420,
       "width": 420
      }
     },
     "output_type": "display_data"
    }
   ],
   "source": [
    "# Divide columns chlorides into 2 parts\n",
    "numrow <- as.numeric(nrow(df)/2)\n",
    "first_half <- df[1:numrow,]\n",
    "second_half <- df[numrow+1:numrow,]\n",
    "\n",
    "# Mean and Standard Deviation each part\n",
    "first_half_mean <- mean(first_half[,\"chlorides\"])\n",
    "second_half_mean <- mean(second_half[,\"chlorides\"])\n",
    "first_half_sd <- sd(first_half[,\"chlorides\"])\n",
    "second_half_sd <- sd(second_half[,\"chlorides\"])\n",
    "\n",
    "T <- ((first_half_mean - second_half_mean)-0.001) / sqrt((first_half_sd^2)/numrow + (second_half_sd^2)/numrow)\n",
    "v <- round(((first_half_sd^2)/numrow + (second_half_sd^2)/numrow) ^ 2 / ((((first_half_sd^2)/numrow)^2 / (numrow -1)) + (((second_half_sd^2)/numrow)^2 / (numrow -1))))\n",
    "\n",
    "t0low <- qt(0.05, v) \n",
    "t0high <- qt(0.05, v, lower.tail = FALSE) \n",
    "\n",
    "cat(\"T  :\", T, \"\\n\")\n",
    "cat(\"v  :\", v, \"\\n\")\n",
    "cat(\"t0 low :\", t0low, \"\\n\")\n",
    "cat(\"t0 high :\", t0high, \"\\n\")\n",
    "cat(\"P-value:\", pt(T, v, lower.tail = FALSE))\n",
    "\n",
    "# Plotting Critical Area\n",
    "x <- seq(-5, 5, 0.1)\n",
    "y <- dt(x, nrow(df))\n",
    "plot(x, y, type = \"l\")\n",
    "\n",
    "x2 <- seq(-5,t0low,0.01)\n",
    "y2 <- dt(x2, nrow(df)-1)\n",
    "x2 = c(-5,x2,t0low)\n",
    "y2 = c(0,y2,0)\n",
    "polygon(x2,y2, col=\"red\", border=NA)\n",
    "\n",
    "x3 <- seq(t0high,5,0.01)\n",
    "y3 <- dt(x3, nrow(df)-1)\n",
    "x3 = c(x3,5,t0high)\n",
    "y3 = c(0,y3,0)\n",
    "polygon(x3,y3, col=\"red\", border=NA)\n",
    "\n",
    "lines(T, 0, type = \"o\", pch=21, bg=\"#28284d\", cex=3, lwd=3, col=\"orange\")"
   ]
  },
  {
   "cell_type": "markdown",
   "metadata": {},
   "source": [
    "a = mean first half <br>\n",
    "b = mean second half\n",
    "\n",
    "H0 = (a - b == 0.1) <br>\n",
    "H1 = (a - b != 0.1) <br>\n",
    "\n",
    "Use the significance 0.05 <br>\n",
    "Using t distribution with degree 998, <br>\n",
    "Critical area : t < t(-0.025), t > t(0.025) <br>\n",
    "Since t(-0.025) < t < t(0.025) (and p value > significance) which means t is NOT located in critical area. Hence, we accept H0. <br>\n",
    "\n",
    "Conclusion: mean first half is GREATER than mean second half BY 0.001"
   ]
  },
  {
   "cell_type": "markdown",
   "metadata": {},
   "source": [
    "3. Benarkah rata-rata sampel 25 baris pertama kolom Volatile Acidity sama dengan rata-rata 25 baris pertama kolom Sulphates ?\n"
   ]
  },
  {
   "cell_type": "code",
   "execution_count": 4,
   "metadata": {
    "vscode": {
     "languageId": "r"
    }
   },
   "outputs": [
    {
     "name": "stdout",
     "output_type": "stream",
     "text": [
      "T  : -2.721924 \n",
      "v  : 48 \n",
      "t0 low : -1.677224 \n",
      "t0 high : 1.677224 \n",
      "P-value: 0.9954912"
     ]
    },
    {
     "data": {
      "image/png": "[encoded data removed]",
      "text/plain": [
       "plot without title"
      ]
     },
     "metadata": {
      "image/png": {
       "height": 420,
       "width": 420
      }
     },
     "output_type": "display_data"
    }
   ],
   "source": [
    "# Divide columns chlorides into 2 parts\n",
    "numrow <- 25\n",
    "first_25 <- df[1:25,]\n",
    "\n",
    "# Mean and Standard Deviation each part\n",
    "volatile_acidity_mean <- mean(first_half[,\"volatile.acidity\"])\n",
    "sulphates_mean <- mean(second_half[,\"sulphates\"])\n",
    "volatile_acidity_sd <- sd(first_half[,\"volatile.acidity\"])\n",
    "sulphates_sd <- sd(second_half[,\"sulphates\"])\n",
    "\n",
    "T <- ((volatile_acidity_mean - sulphates_mean)-0.001) / sqrt((volatile_acidity_sd^2)/numrow + (sulphates_sd^2)/numrow)\n",
    "v <- round(((volatile_acidity_sd^2)/numrow + (sulphates_sd^2)/numrow) ^ 2 / ((((volatile_acidity_sd^2)/numrow)^2 / (numrow -1)) + (((sulphates_sd^2)/numrow)^2 / (numrow -1))))\n",
    "\n",
    "t0low <- qt(0.05, v) \n",
    "t0high <- qt(0.05, v, lower.tail = FALSE) \n",
    "\n",
    "cat(\"T  :\", T, \"\\n\")\n",
    "cat(\"v  :\", v, \"\\n\")\n",
    "cat(\"t0 low :\", t0low, \"\\n\")\n",
    "cat(\"t0 high :\", t0high, \"\\n\")\n",
    "cat(\"P-value:\", pt(T, v, lower.tail = FALSE))\n",
    "\n",
    "# Plotting Critical Area\n",
    "x <- seq(-5, 5, 0.1)\n",
    "y <- dt(x, nrow(df))\n",
    "plot(x, y, type = \"l\")\n",
    "\n",
    "x2 <- seq(-5,t0low,0.01)\n",
    "y2 <- dt(x2, nrow(df)-1)\n",
    "x2 = c(-5,x2,t0low)\n",
    "y2 = c(0,y2,0)\n",
    "polygon(x2,y2, col=\"red\", border=NA)\n",
    "\n",
    "x3 <- seq(t0high,5,0.01)\n",
    "y3 <- dt(x3, nrow(df)-1)\n",
    "x3 = c(x3,5,t0high)\n",
    "y3 = c(0,y3,0)\n",
    "polygon(x3,y3, col=\"red\", border=NA)\n",
    "\n",
    "lines(T, 0, type = \"o\", pch=21, bg=\"#28284d\", cex=3, lwd=3, col=\"orange\")"
   ]
  },
  {
   "cell_type": "markdown",
   "metadata": {},
   "source": [
    "a = mean first 25 volatile acidity <br>\n",
    "b = mean first 25 sulphates <br>\n",
    "\n",
    "H0 = (a == b) <br>\n",
    "H1 = (a != b) <br>\n",
    "\n",
    "Use the significance 0.05 <br>\n",
    "Using t distribution with degree 998, <br>\n",
    "Critical area : t < t(-0.025), t > t(0.025) <br>\n",
    "Since t < t(-0.025) (and p value < significance/2) which means t is located in critical area. Hence, we reject H0. <br>\n",
    "\n",
    "Conclusion: mean first 25 volatile acidity is NOT SAME as mean first 25 sulphates"
   ]
  },
  {
   "cell_type": "markdown",
   "metadata": {},
   "source": [
    "4. Bagian awal kolom residual sugar memiliki variansi yang sama dengan bagian akhirnya?\n"
   ]
  },
  {
   "cell_type": "code",
   "execution_count": 5,
   "metadata": {
    "vscode": {
     "languageId": "r"
    }
   },
   "outputs": [
    {
     "name": "stdout",
     "output_type": "stream",
     "text": [
      "T  : 0.9420041 \n",
      "f0 low : 0.8388858 \n",
      "f0 high : 1.192057 \n",
      "P-value: 0.2524102"
     ]
    },
    {
     "data": {
      "image/png": "[encoded data removed]",
      "text/plain": [
       "plot without title"
      ]
     },
     "metadata": {
      "image/png": {
       "height": 420,
       "width": 420
      }
     },
     "output_type": "display_data"
    }
   ],
   "source": [
    "numrow <- as.numeric(nrow(df)/2)\n",
    "first_half <- df[1:numrow,]\n",
    "second_half <- df[numrow+1:numrow,]\n",
    "\n",
    "f <- sd(first_half[,\"residual.sugar\"])^2 / sd(second_half[,\"residual.sugar\"])^2\n",
    "f0low <- qf(0.025, numrow-1, numrow-1) \n",
    "f0high <- qf(0.025, numrow-1, numrow-1, lower.tail = FALSE) \n",
    "\n",
    "cat(\"T  :\", f, \"\\n\")\n",
    "cat(\"f0 low :\", f0low, \"\\n\")\n",
    "cat(\"f0 high :\", f0high, \"\\n\")\n",
    "cat(\"P-value:\", pf(f, numrow-1, numrow-1))\n",
    "\n",
    "# Plotting Critical Area\n",
    "x <- seq(0.5, 2, 0.01)\n",
    "y <- df(x, numrow-1, numrow-1)\n",
    "curve(df(x, numrow-1, numrow-1), 0.5, 1.5)\n",
    "\n",
    "x2 <- seq(0.5,f0low,0.01)\n",
    "y2 <- df(x2, numrow-1, numrow-1)\n",
    "x2 = c(0.5,x2,f0low)\n",
    "y2 = c(0,y2,0)\n",
    "polygon(x2,y2, col=\"red\", border=NA)\n",
    "\n",
    "x3 <- seq(f0high,1.5,0.01)\n",
    "y3 <- df(x3, numrow-1, numrow-1)\n",
    "x3 = c(x3,1.5,f0high)\n",
    "y3 = c(0,y3,0)\n",
    "polygon(x3,y3, col=\"red\", border=NA)\n",
    "\n",
    "lines(f, 0, type = \"o\", pch=21, bg=\"#28284d\", cex=3, lwd=3, col=\"orange\")"
   ]
  },
  {
   "cell_type": "markdown",
   "metadata": {},
   "source": [
    "a = variances first half<br>\n",
    "b = variances second half<br>\n",
    "\n",
    "H0 = (a == b) <br>\n",
    "H1 = (a != b) <br>\n",
    "\n",
    "Use the significance 0.05 <br>\n",
    "Using t distribution with degree 499 (first_half) and 499 (second_half) <br>\n",
    "Critical area : f < f(-0.025), f > f(0.025) <br>\n",
    "Since f(-0.025) < f < f(-0.025) (and p value > significance/2) which means f is NOT located in critical area. Hence, we accept H0. <br>\n",
    "\n",
    "Conclusion: variances first half is EQUAL to variances second half"
   ]
  },
  {
   "cell_type": "markdown",
   "metadata": {},
   "source": [
    "5. Proporsi nilai setengah bagian awal alcohol yang lebih dari 7, adalah lebih besar daripada, proporsi nilai yang sama di setengah bagian akhir alcohol?\n"
   ]
  },
  {
   "cell_type": "code",
   "execution_count": 6,
   "metadata": {
    "vscode": {
     "languageId": "r"
    }
   },
   "outputs": [
    {
     "name": "stdout",
     "output_type": "stream",
     "text": [
      "z  : 0 \n",
      "z0 low : 1.644854 \n",
      "P-value: 0.5"
     ]
    },
    {
     "data": {
      "image/png": "[encoded data removed]",
      "text/plain": [
       "plot without title"
      ]
     },
     "metadata": {
      "image/png": {
       "height": 420,
       "width": 420
      }
     },
     "output_type": "display_data"
    }
   ],
   "source": [
    "numrow <- as.numeric(nrow(df)/2)\n",
    "first_half <- df[1:numrow,]\n",
    "second_half <- df[numrow+1:numrow,]\n",
    "\n",
    "proportion_first_half <- nrow(first_half[first_half$\"alcohol\" > 7,]) / numrow\n",
    "proportion_second_half <- nrow(second_half[second_half$\"alcohol\" > 7,]) / numrow\n",
    "\n",
    "z <- (proportion_first_half - proportion_second_half) / sqrt(proportion_first_half*(1-proportion_first_half)/numrow + proportion_second_half*(1-proportion_second_half)/numrow)\n",
    "z0 <- qnorm(0.05, lower.tail = FALSE) \n",
    "\n",
    "cat(\"z  :\", z, \"\\n\")\n",
    "cat(\"z0 low :\", z0, \"\\n\")\n",
    "cat(\"P-value:\", 1-pnorm(z))\n",
    "\n",
    "# Plotting Critical Area\n",
    "x <- seq(-5, 5, 0.1)\n",
    "y <- dnorm(x)\n",
    "plot(x, y, type = \"l\")\n",
    "\n",
    "x3 <- seq(z0,5,0.01)\n",
    "y3 <- dnorm(x3)\n",
    "x3 = c(x3,5,z0)\n",
    "y3 = c(0,y3,0)\n",
    "polygon(x3,y3, col=\"red\", border=NA)\n",
    "\n",
    "lines(z, 0, type = \"o\", pch=21, bg=\"#28284d\", cex=3, lwd=3, col=\"orange\")"
   ]
  },
  {
   "cell_type": "markdown",
   "metadata": {},
   "source": [
    "a = proportion of first half alchohol which greater than 7<br>\n",
    "b = proportion of second half alcohol which greater than 7<br>\n",
    "\n",
    "H0 = (a == b) <br>\n",
    "H1 = (a > b) <br>\n",
    "\n",
    "Use the significance 0.05 <br>\n",
    "Critical area : z > z(0.005) <br>\n",
    "Since z < z(0.005) (and p value > significance) which means z is NOT located in critical area. Hence, we accept H0. <br>\n",
    "\n",
    "Conclusion: proportion first half alcohol which greater than 7 is NOT GREATER than proportion second half alcohol which greater than 7"
   ]
  }
 ],
 "metadata": {
  "kernelspec": {
   "display_name": "R",
   "language": "R",
   "name": "ir"
  },
  "language_info": {
   "codemirror_mode": "r",
   "file_extension": ".r",
   "mimetype": "text/x-r-source",
   "name": "R",
   "pygments_lexer": "r",
   "version": "4.2.3"
  }
 },
 "nbformat": 4,
 "nbformat_minor": 2
}
