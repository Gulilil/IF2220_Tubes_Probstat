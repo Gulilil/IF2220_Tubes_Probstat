{
 "cells": [
  {
   "cell_type": "markdown",
   "metadata": {},
   "source": [
    "# Tugas Besar IF2220 - Probabilitas dan Statistika\n",
    "### <font color='#3776ab'>Part 1: Statistics Description</font>\n",
    "Anggota: <br>\n",
    "13521116 - Juan Christopher Santoso <br>\n",
    "13521162 - Antonio Natthan Krishna <br>\n",
    "\n"
   ]
  },
  {
   "cell_type": "markdown",
   "metadata": {},
   "source": [
    "### Data Preparation and Data Description"
   ]
  },
  {
   "cell_type": "code",
   "execution_count": 43,
   "metadata": {},
   "outputs": [
    {
     "name": "stdout",
     "output_type": "stream",
     "text": [
      "Amount of Rows:  1000 \n",
      "Amount of Columns:  12 \n",
      "\n",
      "List of Columns : \n",
      "fixed.acidity \n",
      "volatile.acidity \n",
      "citric.acid \n",
      "residual.sugar \n",
      "chlorides \n",
      "free.sulfur.dioxide \n",
      "total.sulfur.dioxide \n",
      "density \n",
      "pH \n",
      "sulphates \n",
      "alcohol \n",
      "quality \n"
     ]
    }
   ],
   "source": [
    "df <- read.csv(\"..\\\\test\\\\anggur.csv\")\n",
    "\n",
    "row <- nrow(df)\n",
    "col <- ncol(df)\n",
    "\n",
    "cat(\"Amount of Rows: \", row, \"\\n\")\n",
    "cat(\"Amount of Columns: \", col, \"\\n\")\n",
    "\n",
    "cat(\"\\n\")\n",
    "\n",
    "cat(\"List of Columns : \\n\")\n",
    "df_colNames = colnames(df)\n",
    "for (i in df_colNames){\n",
    "    cat(i, \"\\n\")\n",
    "}\n",
    "\n"
   ]
  },
  {
   "cell_type": "markdown",
   "metadata": {},
   "source": [
    "1. Mean"
   ]
  },
  {
   "cell_type": "code",
   "execution_count": 44,
   "metadata": {
    "vscode": {
     "languageId": "r"
    }
   },
   "outputs": [
    {
     "name": "stdout",
     "output_type": "stream",
     "text": [
      "Mean data of every column: \n",
      "\n",
      "fixed.acidity :  7.15253 \n",
      "volatile.acidity :  0.5208385 \n",
      "citric.acid :  0.270517 \n",
      "residual.sugar :  2.567104 \n",
      "chlorides :  0.08119515 \n",
      "free.sulfur.dioxide :  14.90768 \n",
      "total.sulfur.dioxide :  40.29015 \n",
      "density :  0.9959253 \n",
      "pH :  3.30361 \n",
      "sulphates :  0.59839 \n",
      "alcohol :  10.59228 \n",
      "quality :  7.958 \n"
     ]
    }
   ],
   "source": [
    "df_means = colMeans(df)\n",
    "\n",
    "cat(\"Mean data of every column: \\n\")\n",
    "cat(\"\\n\")\n",
    "for (i in c(1:col)){\n",
    "    cat(df_colNames[i], \": \", df_means[i], \"\\n\")\n",
    "}\n",
    "\n",
    "# Every mean of the columns are stored in df_means"
   ]
  },
  {
   "cell_type": "markdown",
   "metadata": {},
   "source": [
    "2. Median"
   ]
  },
  {
   "cell_type": "code",
   "execution_count": 55,
   "metadata": {
    "vscode": {
     "languageId": "r"
    }
   },
   "outputs": [
    {
     "name": "stdout",
     "output_type": "stream",
     "text": [
      "Median data of every column: \n",
      "\n",
      "fixed.acidity :  7.15 \n",
      "volatile.acidity :  0.52485 \n",
      "citric.acid :  0.2722 \n",
      "residual.sugar :  2.51943 \n",
      "chlorides :  0.0821669 \n",
      "free.sulfur.dioxide :  14.86035 \n",
      "total.sulfur.dioxide :  40.19 \n",
      "density :  0.996 \n",
      "pH :  3.3 \n",
      "sulphates :  0.595 \n",
      "alcohol :  10.61 \n",
      "quality :  8 \n"
     ]
    }
   ],
   "source": [
    "df_medians = list()\n",
    "\n",
    "cat(\"Median data of every column: \\n\")\n",
    "cat(\"\\n\")\n",
    "for ( i in c(1:col)){\n",
    "    tempMean <- median(df[,df_colNames[i]])\n",
    "    df_medians <- append(df_medians, tempMean)\n",
    "    cat(df_colNames[i],\": \",tempMean, \"\\n\")\n",
    "}\n",
    "\n",
    "# Every median of the columns are stored in df_medians"
   ]
  },
  {
   "cell_type": "markdown",
   "metadata": {},
   "source": [
    "3. Mode"
   ]
  },
  {
   "cell_type": "code",
   "execution_count": 57,
   "metadata": {
    "vscode": {
     "languageId": "r"
    }
   },
   "outputs": [
    {
     "name": "stdout",
     "output_type": "stream",
     "text": [
      "Mode data of every column: \n",
      "\n",
      "fixed.acidity :  5.9 \n",
      "volatile.acidity :  0.5768 \n",
      "citric.acid :  0.3248 \n",
      "residual.sugar :  3.371815 \n",
      "chlorides :  0.06637859 \n",
      "free.sulfur.dioxide :  12.23217 \n",
      "total.sulfur.dioxide :  44.26 \n",
      "density :  0.9999 \n",
      "pH :  3.27 \n",
      "sulphates :  0.51 \n",
      "alcohol :  10.52 \n",
      "quality :  9 \n"
     ]
    }
   ],
   "source": [
    "getmode <- function(v) {\n",
    "    uniquev <- unique(v)\n",
    "    maxCount <- 0\n",
    "    maxElmt <- 0\n",
    "    for (j in c(1:row)){\n",
    "        temp <- v[i]\n",
    "        count <- 0\n",
    "        for (k in c(i:row)){\n",
    "            if (temp == v[k]){\n",
    "                count <- count + 1\n",
    "            }\n",
    "        }\n",
    "        if (count > maxCount){\n",
    "            maxCount <- count\n",
    "            maxElmt <- temp\n",
    "        }\n",
    "    }\n",
    "    return(maxElmt)\n",
    "}\n",
    "\n",
    "df_modes <- list()\n",
    "\n",
    "cat(\"Mode data of every column: \\n\")\n",
    "cat(\"\\n\")\n",
    "\n",
    "for ( i in c(1:col)){\n",
    "    tempMode <- getmode(df[,df_colNames[i]])\n",
    "    df_modes <- append(df_modes, tempMode)\n",
    "    cat(df_colNames[i],\": \",tempMode, \"\\n\")\n",
    "}\n",
    "\n",
    "# Every mode of the columns are stored in df_modes"
   ]
  },
  {
   "cell_type": "markdown",
   "metadata": {},
   "source": [
    "4. Standard Deviation"
   ]
  },
  {
   "cell_type": "code",
   "execution_count": null,
   "metadata": {
    "vscode": {
     "languageId": "r"
    }
   },
   "outputs": [],
   "source": []
  },
  {
   "cell_type": "markdown",
   "metadata": {},
   "source": [
    "5. Variance"
   ]
  },
  {
   "cell_type": "code",
   "execution_count": null,
   "metadata": {
    "vscode": {
     "languageId": "r"
    }
   },
   "outputs": [],
   "source": []
  },
  {
   "cell_type": "markdown",
   "metadata": {},
   "source": [
    "6. Range"
   ]
  },
  {
   "cell_type": "code",
   "execution_count": null,
   "metadata": {
    "vscode": {
     "languageId": "r"
    }
   },
   "outputs": [],
   "source": []
  },
  {
   "cell_type": "markdown",
   "metadata": {},
   "source": [
    "7. Minimum Value"
   ]
  },
  {
   "cell_type": "code",
   "execution_count": 58,
   "metadata": {
    "vscode": {
     "languageId": "r"
    }
   },
   "outputs": [
    {
     "name": "stdout",
     "output_type": "stream",
     "text": [
      "Minimum value data of every column: \n",
      "\n",
      "fixed.acidity :  3.32 \n",
      "volatile.acidity :  0.1399 \n",
      "citric.acid :  0.1167 \n",
      "residual.sugar :  0.03255453 \n",
      "chlorides :  0.01512244 \n",
      "free.sulfur.dioxide :  0.1946785 \n",
      "total.sulfur.dioxide :  3.15 \n",
      "density :  0.9888 \n",
      "pH :  2.97 \n",
      "sulphates :  0.29 \n",
      "alcohol :  6.03 \n",
      "quality :  5 \n"
     ]
    }
   ],
   "source": [
    "df_mins = list()\n",
    "\n",
    "cat(\"Minimum value data of every column: \\n\")\n",
    "cat(\"\\n\")\n",
    "\n",
    "for ( i in c(1:col)){\n",
    "    tempMin <- min(df[,df_colNames[i]])\n",
    "    df_mins <- append(df_mins, tempMin)\n",
    "    cat(df_colNames[i],\": \",tempMin, \"\\n\")\n",
    "}\n",
    "\n",
    "# Every minimum value of the columns are stored in df_mins"
   ]
  },
  {
   "cell_type": "markdown",
   "metadata": {},
   "source": [
    "8. Maximum Value"
   ]
  },
  {
   "cell_type": "code",
   "execution_count": 59,
   "metadata": {
    "vscode": {
     "languageId": "r"
    }
   },
   "outputs": [
    {
     "name": "stdout",
     "output_type": "stream",
     "text": [
      "Maximum value data of every column: \n",
      "\n",
      "fixed.acidity :  11.49 \n",
      "volatile.acidity :  0.8051 \n",
      "citric.acid :  0.4096 \n",
      "residual.sugar :  5.550755 \n",
      "chlorides :  0.1407576 \n",
      "free.sulfur.dioxide :  27.46253 \n",
      "total.sulfur.dioxide :  69.96 \n",
      "density :  1.0026 \n",
      "pH :  3.71 \n",
      "sulphates :  0.96 \n",
      "alcohol :  15.02 \n",
      "quality :  10 \n"
     ]
    }
   ],
   "source": [
    "df_maxs = list()\n",
    "\n",
    "cat(\"Maximum value data of every column: \\n\")\n",
    "cat(\"\\n\")\n",
    "\n",
    "for ( i in c(1:col)){\n",
    "    tempMax <- max(df[,df_colNames[i]])\n",
    "    df_maxs <- append(df_maxs, tempMin)\n",
    "    cat(df_colNames[i],\": \",tempMax, \"\\n\")\n",
    "}\n",
    "\n",
    "\n",
    "# Every maximum value of the columns are stored in df_maxs"
   ]
  },
  {
   "cell_type": "markdown",
   "metadata": {},
   "source": [
    "9. Quartile"
   ]
  },
  {
   "cell_type": "code",
   "execution_count": null,
   "metadata": {
    "vscode": {
     "languageId": "r"
    }
   },
   "outputs": [],
   "source": []
  },
  {
   "cell_type": "markdown",
   "metadata": {},
   "source": [
    "10. Interqurtile Range"
   ]
  },
  {
   "cell_type": "code",
   "execution_count": null,
   "metadata": {
    "vscode": {
     "languageId": "r"
    }
   },
   "outputs": [],
   "source": []
  },
  {
   "cell_type": "markdown",
   "metadata": {},
   "source": [
    "11. Skewness"
   ]
  },
  {
   "cell_type": "code",
   "execution_count": null,
   "metadata": {
    "vscode": {
     "languageId": "r"
    }
   },
   "outputs": [],
   "source": []
  },
  {
   "cell_type": "markdown",
   "metadata": {},
   "source": [
    "12. Kurtosis"
   ]
  },
  {
   "cell_type": "code",
   "execution_count": null,
   "metadata": {
    "vscode": {
     "languageId": "r"
    }
   },
   "outputs": [],
   "source": []
  }
 ],
 "metadata": {
  "kernelspec": {
   "display_name": "R",
   "language": "R",
   "name": "ir"
  },
  "language_info": {
   "codemirror_mode": "r",
   "file_extension": ".r",
   "mimetype": "text/x-r-source",
   "name": "R",
   "pygments_lexer": "r",
   "version": "4.2.3"
  }
 },
 "nbformat": 4,
 "nbformat_minor": 2
}
