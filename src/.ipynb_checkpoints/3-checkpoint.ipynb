{
 "cells": [
  {
   "cell_type": "markdown",
   "metadata": {},
   "source": [
    "# Tugas Besar IF2220 - Probabilitas dan Statistika\n",
    "### <font color='#3776ab'>Part 3: Normality Test</font>\n",
    "Anggota: <br>\n",
    "13521116 - Juan Christopher Santoso <br>\n",
    "13521162 - Antonio Natthan Krishna <br>"
   ]
  },
  {
   "cell_type": "markdown",
   "metadata": {},
   "source": [
    "### Data Preparation and Data Description"
   ]
  },
  {
   "cell_type": "code",
   "execution_count": 1,
   "metadata": {},
   "outputs": [
    {
     "name": "stdout",
     "output_type": "stream",
     "text": [
      "Amount of Rows:  1000 \n",
      "Amount of Columns:  12 \n",
      "\n",
      "List of Columns : \n",
      "1 .  fixed.acidity \n",
      "2 .  volatile.acidity \n",
      "3 .  citric.acid \n",
      "4 .  residual.sugar \n",
      "5 .  chlorides \n",
      "6 .  free.sulfur.dioxide \n",
      "7 .  total.sulfur.dioxide \n",
      "8 .  density \n",
      "9 .  pH \n",
      "10 .  sulphates \n",
      "11 .  alcohol \n",
      "12 .  quality \n"
     ]
    }
   ],
   "source": [
    "df <- read.csv(\"..\\\\test\\\\anggur.csv\")\n",
    "\n",
    "# get rows and columns of data\n",
    "row <- nrow(df)\n",
    "col <- ncol(df)\n",
    "\n",
    "cat(\"Amount of Rows: \", row, \"\\n\")\n",
    "cat(\"Amount of Columns: \", col, \"\\n\")\n",
    "\n",
    "cat(\"\\n\")\n",
    "\n",
    "\n",
    "# enumeration of columns and rows\n",
    "enums_col <- c(1:col)\n",
    "enums_row <- c(1:row)\n",
    "\n",
    "# List of all column names\n",
    "cat(\"List of Columns : \\n\")\n",
    "df_colNames <- colnames(df)\n",
    "for (i in enums_col){\n",
    "    cat(i,\". \",df_colNames[i], \"\\n\")\n",
    "}\n"
   ]
  },
  {
   "cell_type": "markdown",
   "metadata": {},
   "source": [
    "### *Global Functions used for Normality Test*"
   ]
  },
  {
   "cell_type": "code",
   "execution_count": 2,
   "metadata": {},
   "outputs": [],
   "source": [
    "# getting list of mean value\n",
    "\n",
    "# getting list of standard deviation value\n",
    "\n",
    "# get sorted list\n",
    "# using insertion sort, asc is a boolean for ascending\n",
    "sortList <- function (v, asc) {\n",
    "    for(i in c(2, row)){\n",
    "        j <- i-1\n",
    "        temp <- v[i]\n",
    "        if (asc){\n",
    "            while (temp < v[j] & j > 0){\n",
    "                v[j+1] <- v[j]\n",
    "                j <- j-1\n",
    "            }\n",
    "            if (temp >= v[j]){\n",
    "                v[j] <- temp\n",
    "            } else {\n",
    "                v[j+1] <- v[0]\n",
    "                v[0] <- temp\n",
    "            }\n",
    "        } else {\n",
    "            while (temp > v[j] & j > 0){\n",
    "                v[j+1] <- v[j]\n",
    "                j <- j-1\n",
    "            }\n",
    "            if (temp <= v[j]){\n",
    "                v[j] <- temp\n",
    "            } else {\n",
    "                v[j+1] <- v[0]\n",
    "                v[0] <- temp\n",
    "            }\n",
    "        }\n",
    "        return (v) \n",
    "    }\n",
    "}\n",
    "\n",
    "# getting Zscore\n",
    "getZScore <- function(v, mean, stdv) {\n",
    "    res <- list()\n",
    "    for (i in enums_row){\n",
    "        z <- (v[i] - mean)/stdv\n",
    "        res <- append(res, z)\n",
    "    }\n",
    "    return (res)\n",
    "}\n",
    "\n",
    "# "
   ]
  },
  {
   "cell_type": "markdown",
   "metadata": {},
   "source": [
    "#### 1. Kolom *fixed.acidity*"
   ]
  },
  {
   "cell_type": "code",
   "execution_count": null,
   "metadata": {},
   "outputs": [],
   "source": []
  },
  {
   "cell_type": "markdown",
   "metadata": {
    "vscode": {
     "languageId": "r"
    }
   },
   "source": [
    "#### 2. Kolom *volatile.acidity*"
   ]
  },
  {
   "cell_type": "code",
   "execution_count": null,
   "metadata": {},
   "outputs": [],
   "source": []
  },
  {
   "cell_type": "markdown",
   "metadata": {},
   "source": [
    "#### 3. Kolom *citric.acid*"
   ]
  },
  {
   "cell_type": "code",
   "execution_count": null,
   "metadata": {},
   "outputs": [],
   "source": []
  },
  {
   "cell_type": "markdown",
   "metadata": {},
   "source": [
    "#### 4. Kolom *residual.sugar*"
   ]
  },
  {
   "cell_type": "code",
   "execution_count": null,
   "metadata": {},
   "outputs": [],
   "source": []
  },
  {
   "cell_type": "markdown",
   "metadata": {},
   "source": [
    "#### 5. Kolom *chlorides*"
   ]
  },
  {
   "cell_type": "code",
   "execution_count": null,
   "metadata": {},
   "outputs": [],
   "source": []
  },
  {
   "cell_type": "markdown",
   "metadata": {},
   "source": [
    "#### 6. Kolom *free.sulfur.dioxide*"
   ]
  },
  {
   "cell_type": "code",
   "execution_count": null,
   "metadata": {},
   "outputs": [],
   "source": []
  },
  {
   "cell_type": "markdown",
   "metadata": {},
   "source": [
    "#### 7. Kolom *total.sulfur.dioxide*"
   ]
  },
  {
   "cell_type": "code",
   "execution_count": null,
   "metadata": {},
   "outputs": [],
   "source": []
  },
  {
   "cell_type": "markdown",
   "metadata": {},
   "source": [
    "#### 8. Kolom *density*"
   ]
  },
  {
   "cell_type": "code",
   "execution_count": null,
   "metadata": {},
   "outputs": [],
   "source": []
  },
  {
   "cell_type": "markdown",
   "metadata": {},
   "source": [
    "#### 9. Kolom *pH*"
   ]
  },
  {
   "cell_type": "code",
   "execution_count": null,
   "metadata": {},
   "outputs": [],
   "source": []
  },
  {
   "cell_type": "markdown",
   "metadata": {},
   "source": [
    "#### 10. Kolom *sulphates*"
   ]
  },
  {
   "cell_type": "code",
   "execution_count": null,
   "metadata": {},
   "outputs": [],
   "source": []
  },
  {
   "cell_type": "markdown",
   "metadata": {},
   "source": [
    "#### 11. Kolom *alcohol*"
   ]
  },
  {
   "cell_type": "code",
   "execution_count": null,
   "metadata": {},
   "outputs": [],
   "source": []
  },
  {
   "cell_type": "markdown",
   "metadata": {},
   "source": [
    "#### 12. Kolom *quality*"
   ]
  },
  {
   "cell_type": "code",
   "execution_count": null,
   "metadata": {},
   "outputs": [],
   "source": []
  }
 ],
 "metadata": {
  "kernelspec": {
   "display_name": "R",
   "language": "R",
   "name": "ir"
  },
  "language_info": {
   "codemirror_mode": "r",
   "file_extension": ".r",
   "mimetype": "text/x-r-source",
   "name": "R",
   "pygments_lexer": "r",
   "version": "4.2.3"
  }
 },
 "nbformat": 4,
 "nbformat_minor": 2
}
