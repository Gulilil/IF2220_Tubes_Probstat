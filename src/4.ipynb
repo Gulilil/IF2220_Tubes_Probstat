{
 "cells": [
  {
   "cell_type": "markdown",
   "metadata": {},
   "source": [
    "# Tugas Besar IF2220 - Probabilitas dan Statistika\n",
    "### <font color='#3776ab'>Part 4: One Sample Hypothesis</font>\n",
    "Anggota: <br>\n",
    "13521116 - Juan Christopher Santoso <br>\n",
    "13521162 - Antonio Natthan Krishna <br>"
   ]
  },
  {
   "cell_type": "markdown",
   "metadata": {},
   "source": [
    "#### All testing use significant of 5% "
   ]
  },
  {
   "cell_type": "code",
   "execution_count": 1,
   "metadata": {
    "vscode": {
     "languageId": "r"
    }
   },
   "outputs": [
    {
     "data": {
      "text/html": [
       "<table class=\"dataframe\">\n",
       "<caption>A matrix: 2 × 2 of type chr</caption>\n",
       "<thead>\n",
       "\t<tr><th scope=col>properties</th><th scope=col>value</th></tr>\n",
       "</thead>\n",
       "<tbody>\n",
       "\t<tr><td>Rows   </td><td>1000</td></tr>\n",
       "\t<tr><td>Columns</td><td>12  </td></tr>\n",
       "</tbody>\n",
       "</table>\n"
      ],
      "text/latex": [
       "A matrix: 2 × 2 of type chr\n",
       "\\begin{tabular}{ll}\n",
       " properties & value\\\\\n",
       "\\hline\n",
       "\t Rows    & 1000\\\\\n",
       "\t Columns & 12  \\\\\n",
       "\\end{tabular}\n"
      ],
      "text/markdown": [
       "\n",
       "A matrix: 2 × 2 of type chr\n",
       "\n",
       "| properties | value |\n",
       "|---|---|\n",
       "| Rows    | 1000 |\n",
       "| Columns | 12   |\n",
       "\n"
      ],
      "text/plain": [
       "     properties value\n",
       "[1,] Rows       1000 \n",
       "[2,] Columns    12   "
      ]
     },
     "metadata": {},
     "output_type": "display_data"
    },
    {
     "data": {
      "text/html": [
       "<table class=\"dataframe\">\n",
       "<caption>A matrix: 12 × 2 of type chr</caption>\n",
       "<thead>\n",
       "\t<tr><th scope=col>columns_index</th><th scope=col>columns_name</th></tr>\n",
       "</thead>\n",
       "<tbody>\n",
       "\t<tr><td>1 </td><td>fixed.acidity       </td></tr>\n",
       "\t<tr><td>2 </td><td>volatile.acidity    </td></tr>\n",
       "\t<tr><td>3 </td><td>citric.acid         </td></tr>\n",
       "\t<tr><td>4 </td><td>residual.sugar      </td></tr>\n",
       "\t<tr><td>5 </td><td>chlorides           </td></tr>\n",
       "\t<tr><td>6 </td><td>free.sulfur.dioxide </td></tr>\n",
       "\t<tr><td>7 </td><td>total.sulfur.dioxide</td></tr>\n",
       "\t<tr><td>8 </td><td>density             </td></tr>\n",
       "\t<tr><td>9 </td><td>pH                  </td></tr>\n",
       "\t<tr><td>10</td><td>sulphates           </td></tr>\n",
       "\t<tr><td>11</td><td>alcohol             </td></tr>\n",
       "\t<tr><td>12</td><td>quality             </td></tr>\n",
       "</tbody>\n",
       "</table>\n"
      ],
      "text/latex": [
       "A matrix: 12 × 2 of type chr\n",
       "\\begin{tabular}{ll}\n",
       " columns\\_index & columns\\_name\\\\\n",
       "\\hline\n",
       "\t 1  & fixed.acidity       \\\\\n",
       "\t 2  & volatile.acidity    \\\\\n",
       "\t 3  & citric.acid         \\\\\n",
       "\t 4  & residual.sugar      \\\\\n",
       "\t 5  & chlorides           \\\\\n",
       "\t 6  & free.sulfur.dioxide \\\\\n",
       "\t 7  & total.sulfur.dioxide\\\\\n",
       "\t 8  & density             \\\\\n",
       "\t 9  & pH                  \\\\\n",
       "\t 10 & sulphates           \\\\\n",
       "\t 11 & alcohol             \\\\\n",
       "\t 12 & quality             \\\\\n",
       "\\end{tabular}\n"
      ],
      "text/markdown": [
       "\n",
       "A matrix: 12 × 2 of type chr\n",
       "\n",
       "| columns_index | columns_name |\n",
       "|---|---|\n",
       "| 1  | fixed.acidity        |\n",
       "| 2  | volatile.acidity     |\n",
       "| 3  | citric.acid          |\n",
       "| 4  | residual.sugar       |\n",
       "| 5  | chlorides            |\n",
       "| 6  | free.sulfur.dioxide  |\n",
       "| 7  | total.sulfur.dioxide |\n",
       "| 8  | density              |\n",
       "| 9  | pH                   |\n",
       "| 10 | sulphates            |\n",
       "| 11 | alcohol              |\n",
       "| 12 | quality              |\n",
       "\n"
      ],
      "text/plain": [
       "      columns_index columns_name        \n",
       " [1,] 1             fixed.acidity       \n",
       " [2,] 2             volatile.acidity    \n",
       " [3,] 3             citric.acid         \n",
       " [4,] 4             residual.sugar      \n",
       " [5,] 5             chlorides           \n",
       " [6,] 6             free.sulfur.dioxide \n",
       " [7,] 7             total.sulfur.dioxide\n",
       " [8,] 8             density             \n",
       " [9,] 9             pH                  \n",
       "[10,] 10            sulphates           \n",
       "[11,] 11            alcohol             \n",
       "[12,] 12            quality             "
      ]
     },
     "metadata": {},
     "output_type": "display_data"
    }
   ],
   "source": [
    "# Import Dataset\n",
    "df <- read.csv(\"..\\\\test\\\\anggur.csv\")\n",
    "\n",
    "# Data Statistics\n",
    "properties <- c(\"Rows\", \"Columns\")\n",
    "value <- c(nrow(df), ncol(df))\n",
    "cbind(properties, value)\n",
    "\n",
    "# List of Columns\n",
    "columns_index <- c(1:ncol(df))\n",
    "columns_name <- colnames(df)\n",
    "\n",
    "# Display List\n",
    "cbind(columns_index, columns_name)\n",
    "\n",
    "# Significance\n",
    "Significance <- 0.05"
   ]
  },
  {
   "cell_type": "markdown",
   "metadata": {},
   "source": [
    "1. Is the mean of `pH` greater than 3.29?"
   ]
  },
  {
   "cell_type": "code",
   "execution_count": 2,
   "metadata": {
    "vscode": {
     "languageId": "r"
    }
   },
   "outputs": [
    {
     "name": "stdout",
     "output_type": "stream",
     "text": [
      "t  : 4.103781 \n",
      "t0 : 1.64638 \n",
      "P-value: 2.197958e-05"
     ]
    },
    {
     "data": {
      "image/png": "[encoded data removed]",
      "text/plain": [
       "plot without title"
      ]
     },
     "metadata": {
      "image/png": {
       "height": 420,
       "width": 420
      }
     },
     "output_type": "display_data"
    }
   ],
   "source": [
    "t <- (mean(df[,\"pH\"]) - 3.29) / (sd(df[,\"pH\"]) / sqrt(nrow(df)))\n",
    "t0 <- qt(0.05, nrow(df)-1, lower.tail = FALSE) \n",
    "\n",
    "cat(\"t  :\", t, \"\\n\")\n",
    "cat(\"t0 :\", t0, \"\\n\")\n",
    "cat(\"P-value:\", 1- pt(t, nrow(df)-1))\n",
    "\n",
    "# Plotting Critical Area\n",
    "x <- seq(-5, 5, 0.1)\n",
    "y <- dt(x, nrow(df)-1)\n",
    "plot(x, y, type = \"l\")\n",
    "\n",
    "x2 <- seq(t0,5,0.01)\n",
    "y2 <- dt(x2, nrow(df)-1)\n",
    "x2 = c(t0,x2,5)\n",
    "y2 = c(0,y2,0)\n",
    "polygon(x2,y2, col=\"red\", border=NA)\n",
    "\n",
    "lines(t, 0, type = \"o\", pch=21, bg=\"#28284d\", cex=3, lwd=3, col=\"orange\")\n"
   ]
  },
  {
   "cell_type": "markdown",
   "metadata": {},
   "source": [
    "H0 = (mean pH == 3.29) <br>\n",
    "H1 = (mean pH > 3.29) <br>\n",
    "\n",
    "Use the significance 0.05 <br>\n",
    "Using t distribution with degree 999 (1000-1), <br>\n",
    "Critical area : t > t(0.05), <br>\n",
    "Since t > t(0.05) (and p-Value < significance) which means t is located in critical area. Hence, we reject H0. <br>\n",
    "\n",
    "Conclusion: mean of population's pH greater than 3.29"
   ]
  },
  {
   "cell_type": "markdown",
   "metadata": {},
   "source": [
    "2. Is the mean of `residual sugar` greater than 2.50?"
   ]
  },
  {
   "cell_type": "code",
   "execution_count": 3,
   "metadata": {
    "vscode": {
     "languageId": "r"
    }
   },
   "outputs": [
    {
     "name": "stdout",
     "output_type": "stream",
     "text": [
      "t  : 2.147962 \n",
      "t0 : 1.64638 \n",
      "P-value: 0.01597836"
     ]
    },
    {
     "data": {
      "image/png": "[encoded data removed]",
      "text/plain": [
       "plot without title"
      ]
     },
     "metadata": {
      "image/png": {
       "height": 420,
       "width": 420
      }
     },
     "output_type": "display_data"
    }
   ],
   "source": [
    "t <- (mean(df[,\"residual.sugar\"])-2.5) / (sd(df[,\"residual.sugar\"]) / sqrt(nrow(df)))\n",
    "t0 <- qt(0.05, nrow(df)-1, lower.tail = FALSE) \n",
    "\n",
    "cat(\"t  :\", t, \"\\n\")\n",
    "cat(\"t0 :\", t0, \"\\n\")\n",
    "cat(\"P-value:\", 1 - pt(t, nrow(df)-1))\n",
    "\n",
    "# Plotting Critical Area\n",
    "x <- seq(-5, 5, 0.1)\n",
    "y <- dt(x, nrow(df))\n",
    "plot(x, y, type = \"l\")\n",
    "\n",
    "x2 <- seq(t0,5,0.01)\n",
    "y2 <- dt(x2, nrow(df)-1)\n",
    "x2 = c(t0,x2,5)\n",
    "y2 = c(0,y2,0)\n",
    "polygon(x2,y2, col=\"red\", border=NA)\n",
    "\n",
    "lines(t, 0, type = \"o\", pch=21, bg=\"#28284d\", cex=3, lwd=3, col=\"orange\")"
   ]
  },
  {
   "cell_type": "markdown",
   "metadata": {},
   "source": [
    "H0 = (mean residual sugar == 2.50) <br>\n",
    "H1 = (mean residual sugar > 2.50) <br>\n",
    "\n",
    "Use the significance 0.05 <br>\n",
    "Using t distribution with degree 999 (1000-1), <br>\n",
    "Critical area : t > t(0.05), <br>\n",
    "Since t > t(0.05) (and p value < significance) which means t is located in critical area. Hence, we reject H0. <br>\n",
    "\n",
    "Conclusion: mean of population's residual sugar greater than 2.50"
   ]
  },
  {
   "cell_type": "markdown",
   "metadata": {},
   "source": [
    "3. Is the mean of the first 150 row in column `sulphates` not 0.65?"
   ]
  },
  {
   "cell_type": "code",
   "execution_count": 4,
   "metadata": {
    "vscode": {
     "languageId": "r"
    }
   },
   "outputs": [
    {
     "name": "stdout",
     "output_type": "stream",
     "text": [
      "t  : -4.964843 \n",
      "t0 low : -1.976013 \n",
      "t0 high : 1.976013 \n",
      "P-value: 9.295076e-07"
     ]
    },
    {
     "data": {
      "image/png": "[encoded data removed]",
      "text/plain": [
       "plot without title"
      ]
     },
     "metadata": {
      "image/png": {
       "height": 420,
       "width": 420
      }
     },
     "output_type": "display_data"
    }
   ],
   "source": [
    "t <- (mean(df[1:150,\"sulphates\"]) - 0.65) / (sd(df[1:150,\"sulphates\"]) / sqrt(150))\n",
    "t0low <- qt(0.025, 150-1) \n",
    "t0high <- qt(0.025, 150-1, lower.tail = FALSE) \n",
    "\n",
    "cat(\"t  :\", t, \"\\n\")\n",
    "cat(\"t0 low :\", t0low, \"\\n\")\n",
    "cat(\"t0 high :\", t0high, \"\\n\")\n",
    "cat(\"P-value:\", pt(t, 150-1))\n",
    "\n",
    "# Plotting Critical Area\n",
    "x <- seq(-5, 5, 0.1)\n",
    "y <- dt(x, nrow(df))\n",
    "plot(x, y, type = \"l\")\n",
    "\n",
    "x2 <- seq(-5,t0low,0.01)\n",
    "y2 <- dt(x2, nrow(df)-1)\n",
    "x2 = c(-5,x2,t0low)\n",
    "y2 = c(0,y2,0)\n",
    "polygon(x2,y2, col=\"red\", border=NA)\n",
    "\n",
    "x3 <- seq(t0high,5,0.01)\n",
    "y3 <- dt(x3, nrow(df)-1)\n",
    "x3 = c(x3,5,t0high)\n",
    "y3 = c(0,y3,0)\n",
    "polygon(x3,y3, col=\"red\", border=NA)\n",
    "\n",
    "lines(t, 0, type = \"o\", pch=21, bg=\"#28284d\", cex=3, lwd=3, col=\"orange\")"
   ]
  },
  {
   "cell_type": "markdown",
   "metadata": {},
   "source": [
    "H0 = (mean first 150 sulphates == 2.50) <br>\n",
    "H1 = (mean first 150 sulphates != 2.50) <br>\n",
    "\n",
    "Use the significance 0.05 <br>\n",
    "Using t distribution with degree 999 (1000-1), <br>\n",
    "Critical area : t < t(-0.025), t > t(0.025) <br>\n",
    "Since t < t0 (and p value < significance) which means t is located in critical area. Hence, we reject H0. <br>\n",
    "\n",
    "Conclusion: mean of population's sulphates is NOT 0.65"
   ]
  },
  {
   "cell_type": "markdown",
   "metadata": {},
   "source": [
    "4. Is the mean of `total sulfur dioxide` lower than 35?"
   ]
  },
  {
   "cell_type": "code",
   "execution_count": 5,
   "metadata": {
    "vscode": {
     "languageId": "r"
    }
   },
   "outputs": [
    {
     "name": "stdout",
     "output_type": "stream",
     "text": [
      "t  : 16.78639 \n",
      "t0 : -1.64638 \n",
      "P-value: 1"
     ]
    },
    {
     "data": {
      "image/png": "[encoded data removed]",
      "text/plain": [
       "plot without title"
      ]
     },
     "metadata": {
      "image/png": {
       "height": 420,
       "width": 420
      }
     },
     "output_type": "display_data"
    }
   ],
   "source": [
    "t <- (mean(df[,\"total.sulfur.dioxide\"]) - 35) / (sd(df[,\"total.sulfur.dioxide\"]) / sqrt(nrow(df)))\n",
    "t0 <- qt(0.05, nrow(df)-1) \n",
    "\n",
    "cat(\"t  :\", t, \"\\n\")\n",
    "cat(\"t0 :\", t0, \"\\n\")\n",
    "cat(\"P-value:\", pt(t, nrow(df)-1))\n",
    "\n",
    "# Plotting Critical Area\n",
    "x <- seq(-16, 16, 0.1)\n",
    "y <- dt(x, nrow(df))\n",
    "plot(x, y, type = \"l\")\n",
    "\n",
    "x2 <- seq(-16,t0,0.01)\n",
    "y2 <- dt(x2, nrow(df)-1)\n",
    "x2 = c(-16,x2,t0)\n",
    "y2 = c(0,y2,0)\n",
    "polygon(x2,y2, col=\"red\", border=NA)\n",
    "\n",
    "lines(t, 0, type = \"o\", pch=21, bg=\"#28284d\", cex=3, lwd=3, col=\"orange\")"
   ]
  },
  {
   "cell_type": "markdown",
   "metadata": {},
   "source": [
    "H0 = (mean total sulfur dioxide == 35) <br>\n",
    "H1 = (mean total sulfur dioxide < 35) <br>\n",
    "\n",
    "Use the significance 0.05 <br>\n",
    "Using t distribution with degree 999 (1000-1), <br>\n",
    "Critical area : t < t(0.05), <br>\n",
    "Since t > t(0.05) (and p value > significance) which means t is NOT located in critical area. Hence, we accept H0. <br>\n",
    "\n",
    "Conclusion: mean of population's total sulfur dioxide is NOT LOWER than 35"
   ]
  },
  {
   "cell_type": "markdown",
   "metadata": {},
   "source": [
    "5. Is the proportion of the `total sulfur dioxide` which are more than 40 not 50%?"
   ]
  },
  {
   "cell_type": "code",
   "execution_count": 6,
   "metadata": {
    "vscode": {
     "languageId": "r"
    }
   },
   "outputs": [
    {
     "name": "stdout",
     "output_type": "stream",
     "text": [
      "z  : 0.7591653 \n",
      "z0 low : -1.959964 \n",
      "z0 high : 1.959964 \n",
      "P-value: 0.2238768"
     ]
    },
    {
     "data": {
      "image/png": "[encoded data removed]",
      "text/plain": [
       "plot without title"
      ]
     },
     "metadata": {
      "image/png": {
       "height": 420,
       "width": 420
      }
     },
     "output_type": "display_data"
    }
   ],
   "source": [
    "select <- df[df$\"total.sulfur.dioxide\" > 40,]\n",
    "proportion <- nrow(select) / nrow(df)\n",
    "z <- (proportion - 0.5) / sqrt(proportion*(1-proportion)/nrow(df))\n",
    "z0 <- qnorm(0.025) \n",
    "\n",
    "cat(\"z  :\", z, \"\\n\")\n",
    "cat(\"z0 low :\", z0, \"\\n\")\n",
    "cat(\"z0 high :\", z0*-1, \"\\n\")\n",
    "cat(\"P-value:\", 1-pnorm(z))\n",
    "\n",
    "# Plotting Critical Area\n",
    "x <- seq(-5, 5, 0.1)\n",
    "y <- dnorm(x)\n",
    "plot(x, y, type = \"l\")\n",
    "\n",
    "x2 <- seq(-5,z0,0.01)\n",
    "y2 <- dnorm(x2)\n",
    "x2 = c(-5,x2,z0)\n",
    "y2 = c(0,y2,0)\n",
    "polygon(x2,y2, col=\"red\", border=NA)\n",
    "\n",
    "x3 <- seq(z0*-1,5,0.01)\n",
    "y3 <- dnorm(x3)\n",
    "x3 = c(x3,5,z0)\n",
    "y3 = c(0,y3,0)\n",
    "polygon(x3,y3, col=\"red\", border=NA)\n",
    "\n",
    "lines(z, 0, type = \"o\", pch=21, bg=\"#28284d\", cex=3, lwd=3, col=\"orange\")"
   ]
  },
  {
   "cell_type": "markdown",
   "metadata": {},
   "source": [
    "p = proportion of the `total sulfur dioxide` which are more than 40 <br>\n",
    "H0 = (p == 0.5) <br>\n",
    "H1 = (p != 0.5) <br>\n",
    "\n",
    "Use the significance 0.05 <br>\n",
    "Using normal distribution,<br>\n",
    "Critical area : z < z(-0.025), z > z(0.025) <br>\n",
    "Since z(-0.025) < z < z(0.025) (and p value > significance/2) which means z is NOT located in critical area. Hence, we accept H0. <br>\n",
    "\n",
    "Conclusion: mean of proportion of the total sulfur dioxide which are more than 40 is 50%"
   ]
  }
 ],
 "metadata": {
  "kernelspec": {
   "display_name": "R",
   "language": "R",
   "name": "ir"
  },
  "language_info": {
   "codemirror_mode": "r",
   "file_extension": ".r",
   "mimetype": "text/x-r-source",
   "name": "R",
   "pygments_lexer": "r",
   "version": "4.2.3"
  }
 },
 "nbformat": 4,
 "nbformat_minor": 2
}
