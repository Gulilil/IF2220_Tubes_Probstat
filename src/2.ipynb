{
 "cells": [
  {
   "cell_type": "markdown",
   "metadata": {},
   "source": [
    "# Tugas Besar IF2220 - Probabilitas dan Statistika\n",
    "### <font color='#3776ab'>Part 2: Data Visualization</font>\n",
    "Anggota: <br>\n",
    "13521116 - Juan Christopher Santoso <br>\n",
    "13521162 - Antonio Natthan Krishna <br>"
   ]
  },
  {
   "cell_type": "markdown",
   "metadata": {},
   "source": [
    "### Data Preparation and Data Description"
   ]
  },
  {
   "cell_type": "code",
   "execution_count": 7,
   "metadata": {
    "vscode": {
     "languageId": "r"
    }
   },
   "outputs": [
    {
     "name": "stdout",
     "output_type": "stream",
     "text": [
      "Amount of Rows:  1000 \n",
      "Amount of Columns:  12 \n",
      "\n",
      "List of Columns : \n",
      "1 .  fixed.acidity \n",
      "2 .  volatile.acidity \n",
      "3 .  citric.acid \n",
      "4 .  residual.sugar \n",
      "5 .  chlorides \n",
      "6 .  free.sulfur.dioxide \n",
      "7 .  total.sulfur.dioxide \n",
      "8 .  density \n",
      "9 .  pH \n",
      "10 .  sulphates \n",
      "11 .  alcohol \n",
      "12 .  quality \n"
     ]
    }
   ],
   "source": [
    "df <- read.csv(\"..\\\\test\\\\anggur.csv\")\n",
    "\n",
    "# get rows and columns of data\n",
    "row <- nrow(df)\n",
    "col <- ncol(df)\n",
    "\n",
    "cat(\"Amount of Rows: \", row, \"\\n\")\n",
    "cat(\"Amount of Columns: \", col, \"\\n\")\n",
    "\n",
    "cat(\"\\n\")\n",
    "\n",
    "\n",
    "# enumeration of columns and rows\n",
    "enums_col <- c(1:col)\n",
    "enums_row <- c(1:row)\n",
    "\n",
    "# List of all column names\n",
    "cat(\"List of Columns : \\n\")\n",
    "df_colNames <- colnames(df)\n",
    "for (i in enums_col){\n",
    "    cat(i,\". \",df_colNames[i], \"\\n\")\n",
    "}\n"
   ]
  },
  {
   "cell_type": "markdown",
   "metadata": {},
   "source": [
    "#### 1. Kolom *fixed.acidity*"
   ]
  },
  {
   "cell_type": "code",
   "execution_count": null,
   "metadata": {
    "vscode": {
     "languageId": "r"
    }
   },
   "outputs": [
    {
     "ename": "",
     "evalue": "",
     "output_type": "error",
     "traceback": [
      "\u001b[1;31mFailed to start the Kernel. \n",
      "\u001b[1;31mError in open.connection(con, \"rb\") : cannot open the connection\n",
      "\u001b[1;31mCalls: <Anonymous> ... parse_and_simplify -> parseJSON -> parse_con -> open -> open.connection\n",
      "\u001b[1;31mIn addition: Warning message:\n",
      "\u001b[1;31mIn open.connection(con, \"rb\") :\n",
      "\u001b[1;31m  cannot open file '\"c:\\Users\\Juan Christopher\\AppData\\Roaming\\jupyter\\runtime\\kernel-v2-26916VeTa9x5Rur06.json\"': Invalid argument\n",
      "\u001b[1;31mExecution halted. \n",
      "\u001b[1;31mView Jupyter <a href='command:jupyter.viewOutput'>log</a> for further details."
     ]
    }
   ],
   "source": [
    "# maxVal <- max(df[,df_colNames[1]])\n",
    "# minVal <- min(df[,df_colNames[1]])\n",
    "# range <- maxVal - minVal\n",
    "# width <- (maxVal - minVal)/ sqrt(row)\n",
    "# partition <- c(1:(range %/% width))\n",
    "\n",
    "# width_list <- c(minVal)\n",
    "\n",
    "# for (i in partition){\n",
    "#     if (minVal + i*width <= maxVal){\n",
    "#         width_list <- append(width_list, minVal + i*width)\n",
    "#     } else {\n",
    "#         width_list <- append(width_list, maxVal)\n",
    "#     }\n",
    "# }\n",
    "\n",
    "fixed_acidity <- df$fixed.acidity\n",
    "\n",
    "hist(fixed_acidity, \n",
    "    main = \"Histogram of fixed acidity\",\n",
    "    xlab = \"Value of fixed acidity\",\n",
    "    ylab = \"Frequency\",\n",
    "    col = \"#D8F2FF\"\n",
    "    )\n",
    "boxplot(fixed_acidity, \n",
    "    main = \"Histogram of fixed acidity\",\n",
    "    ylab = \"Value of fixed acidity\",\n",
    "    col = \"#D8F2FF\"\n",
    "    )"
   ]
  },
  {
   "cell_type": "markdown",
   "metadata": {},
   "source": [
    "#### 2. Kolom *volatile.acidity*"
   ]
  },
  {
   "cell_type": "code",
   "execution_count": 74,
   "metadata": {
    "vscode": {
     "languageId": "r"
    }
   },
   "outputs": [
    {
     "data": {
      "image/png": "[encoded data removed]",
      "text/plain": [
       "Plot with title \"Histogram of fixed acidity\""
      ]
     },
     "metadata": {
      "image/png": {
       "height": 420,
       "width": 420
      }
     },
     "output_type": "display_data"
    },
    {
     "data": {
      "image/png": "[encoded data removed]",
      "text/plain": [
       "Plot with title \"Histogram of fixed acidity\""
      ]
     },
     "metadata": {
      "image/png": {
       "height": 420,
       "width": 420
      }
     },
     "output_type": "display_data"
    }
   ],
   "source": [
    "volatile_acidity <- df$volatile.acidity\n",
    "\n",
    "hist(volatile_acidity, \n",
    "    main = \"Histogram of fixed acidity\",\n",
    "    xlab = \"Value of fixed acidity\",\n",
    "    ylab = \"Frequency\",\n",
    "    col = \"#D8F2FF\"\n",
    "    )\n",
    "boxplot(volatile_acidity, \n",
    "    main = \"Histogram of fixed acidity\",\n",
    "    ylab = \"Value of fixed acidity\",\n",
    "    col = \"#D8F2FF\"\n",
    "    )"
   ]
  },
  {
   "cell_type": "markdown",
   "metadata": {},
   "source": [
    "#### 3. Kolom *citric.acid*"
   ]
  },
  {
   "cell_type": "code",
   "execution_count": null,
   "metadata": {
    "vscode": {
     "languageId": "r"
    }
   },
   "outputs": [
    {
     "ename": "",
     "evalue": "",
     "output_type": "error",
     "traceback": [
      "\u001b[1;31mFailed to start the Kernel. \n",
      "\u001b[1;31mError in open.connection(con, \"rb\") : cannot open the connection\n",
      "\u001b[1;31mCalls: <Anonymous> ... parse_and_simplify -> parseJSON -> parse_con -> open -> open.connection\n",
      "\u001b[1;31mIn addition: Warning message:\n",
      "\u001b[1;31mIn open.connection(con, \"rb\") :\n",
      "\u001b[1;31m  cannot open file '\"c:\\Users\\Juan Christopher\\AppData\\Roaming\\jupyter\\runtime\\kernel-v2-269169cKTl055v89z.json\"': Invalid argument\n",
      "\u001b[1;31mExecution halted. \n",
      "\u001b[1;31mView Jupyter <a href='command:jupyter.viewOutput'>log</a> for further details."
     ]
    }
   ],
   "source": [
    "citric_acid <- df$citric.acid\n",
    "\n",
    "hist(citric_acid, \n",
    "    main = \"Histogram of fixed acidity\",\n",
    "    xlab = \"Value of fixed acidity\",\n",
    "    ylab = \"Frequency\",\n",
    "    col = \"#D8F2FF\"\n",
    "    )\n",
    "boxplot(citric_acid, \n",
    "    main = \"Histogram of fixed acidity\",\n",
    "    ylab = \"Value of fixed acidity\",\n",
    "    col = \"#D8F2FF\"\n",
    "    )"
   ]
  },
  {
   "cell_type": "markdown",
   "metadata": {},
   "source": [
    "#### 4. Kolom *residual.sugar*"
   ]
  },
  {
   "cell_type": "code",
   "execution_count": null,
   "metadata": {
    "vscode": {
     "languageId": "r"
    }
   },
   "outputs": [],
   "source": [
    "residual_sugar <- df$residual.sugar\n",
    "\n",
    "hist(residual_sugar, \n",
    "    main = \"Histogram of fixed acidity\",\n",
    "    xlab = \"Value of fixed acidity\",\n",
    "    ylab = \"Frequency\",\n",
    "    col = \"#D8F2FF\"\n",
    "    )\n",
    "boxplot(residual_sugar, \n",
    "    main = \"Histogram of fixed acidity\",\n",
    "    ylab = \"Value of fixed acidity\",\n",
    "    col = \"#D8F2FF\"\n",
    "    )"
   ]
  },
  {
   "cell_type": "markdown",
   "metadata": {},
   "source": [
    "#### 5. Kolom *chlorides*"
   ]
  },
  {
   "cell_type": "code",
   "execution_count": null,
   "metadata": {
    "vscode": {
     "languageId": "r"
    }
   },
   "outputs": [],
   "source": [
    "chlorides <- df$chlorides\n",
    "\n",
    "hist(chlorides, \n",
    "    main = \"Histogram of fixed acidity\",\n",
    "    xlab = \"Value of fixed acidity\",\n",
    "    ylab = \"Frequency\",\n",
    "    col = \"#D8F2FF\"\n",
    "    )\n",
    "boxplot(chlorides, \n",
    "    main = \"Histogram of fixed acidity\",\n",
    "    ylab = \"Value of fixed acidity\",\n",
    "    col = \"#D8F2FF\"\n",
    "    )"
   ]
  },
  {
   "cell_type": "markdown",
   "metadata": {},
   "source": [
    "#### 6. Kolom *free.sulfur.dioxide*"
   ]
  },
  {
   "cell_type": "code",
   "execution_count": null,
   "metadata": {
    "vscode": {
     "languageId": "r"
    }
   },
   "outputs": [],
   "source": [
    "free_sulfur_dioxide <- df$free.sulfur.dioxide\n",
    "\n",
    "hist(free_sulfur_dioxide, \n",
    "    main = \"Histogram of fixed acidity\",\n",
    "    xlab = \"Value of fixed acidity\",\n",
    "    ylab = \"Frequency\",\n",
    "    col = \"#D8F2FF\"\n",
    "    )\n",
    "boxplot(free_sulfur_dioxide, \n",
    "    main = \"Histogram of fixed acidity\",\n",
    "    ylab = \"Value of fixed acidity\",\n",
    "    col = \"#D8F2FF\"\n",
    "    )"
   ]
  },
  {
   "cell_type": "markdown",
   "metadata": {},
   "source": [
    "#### 7. Kolom *total.sulfur.dioxide*"
   ]
  },
  {
   "cell_type": "code",
   "execution_count": null,
   "metadata": {
    "vscode": {
     "languageId": "r"
    }
   },
   "outputs": [],
   "source": []
  },
  {
   "cell_type": "markdown",
   "metadata": {},
   "source": [
    "#### 8. Kolom *density*"
   ]
  },
  {
   "cell_type": "code",
   "execution_count": null,
   "metadata": {
    "vscode": {
     "languageId": "r"
    }
   },
   "outputs": [],
   "source": []
  },
  {
   "cell_type": "markdown",
   "metadata": {},
   "source": [
    "#### 9. Kolom *pH*"
   ]
  },
  {
   "cell_type": "code",
   "execution_count": null,
   "metadata": {
    "vscode": {
     "languageId": "r"
    }
   },
   "outputs": [],
   "source": []
  },
  {
   "cell_type": "markdown",
   "metadata": {},
   "source": [
    "#### 10. Kolom *sulphates*"
   ]
  },
  {
   "cell_type": "code",
   "execution_count": null,
   "metadata": {
    "vscode": {
     "languageId": "r"
    }
   },
   "outputs": [],
   "source": []
  },
  {
   "cell_type": "markdown",
   "metadata": {},
   "source": [
    "#### 11. Kolom *alcohol*"
   ]
  },
  {
   "cell_type": "code",
   "execution_count": null,
   "metadata": {
    "vscode": {
     "languageId": "r"
    }
   },
   "outputs": [],
   "source": []
  },
  {
   "cell_type": "markdown",
   "metadata": {},
   "source": [
    "#### 12. Kolom *quality*"
   ]
  },
  {
   "cell_type": "code",
   "execution_count": null,
   "metadata": {
    "vscode": {
     "languageId": "r"
    }
   },
   "outputs": [],
   "source": []
  }
 ],
 "metadata": {
  "kernelspec": {
   "display_name": "R",
   "language": "R",
   "name": "ir"
  },
  "language_info": {
   "codemirror_mode": "r",
   "file_extension": ".r",
   "mimetype": "text/x-r-source",
   "name": "R",
   "pygments_lexer": "r",
   "version": "4.2.3"
  }
 },
 "nbformat": 4,
 "nbformat_minor": 2
}
