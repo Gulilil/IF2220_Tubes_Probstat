{
 "cells": [
  {
   "cell_type": "markdown",
   "metadata": {},
   "source": [
    "# Tugas Besar IF2220 - Probabilitas dan Statistika\n",
    "### <font color='#3776ab'>Part 1: Statistics Description</font>\n",
    "Anggota: <br>\n",
    "13521116 - Juan Christopher Santoso <br>\n",
    "13521162 - Antonio Natthan Krishna <br>\n",
    "\n"
   ]
  },
  {
   "cell_type": "markdown",
   "metadata": {},
   "source": [
    "### Data Preparation and Data Description"
   ]
  },
  {
   "cell_type": "code",
   "execution_count": 1,
   "metadata": {},
   "outputs": [
    {
     "name": "stdout",
     "output_type": "stream",
     "text": [
      "Amount of Rows:  1000 \n",
      "Amount of Columns:  12 \n",
      "\n",
      "List of Columns : \n",
      "1 .  fixed.acidity \n",
      "2 .  volatile.acidity \n",
      "3 .  citric.acid \n",
      "4 .  residual.sugar \n",
      "5 .  chlorides \n",
      "6 .  free.sulfur.dioxide \n",
      "7 .  total.sulfur.dioxide \n",
      "8 .  density \n",
      "9 .  pH \n",
      "10 .  sulphates \n",
      "11 .  alcohol \n",
      "12 .  quality \n"
     ]
    }
   ],
   "source": [
    "df <- read.csv(\"..\\\\test\\\\anggur.csv\")\n",
    "\n",
    "# get rows and columns of data\n",
    "row <- nrow(df)\n",
    "col <- ncol(df)\n",
    "\n",
    "cat(\"Amount of Rows: \", row, \"\\n\")\n",
    "cat(\"Amount of Columns: \", col, \"\\n\")\n",
    "\n",
    "cat(\"\\n\")\n",
    "\n",
    "\n",
    "# enumeration of columns and rows\n",
    "enums_col <- c(1:col)\n",
    "enums_row <- c(1:row)\n",
    "\n",
    "# List of all column names\n",
    "cat(\"List of Columns : \\n\")\n",
    "df_colNames <- colnames(df)\n",
    "for (i in enums_col){\n",
    "    cat(i,\". \",df_colNames[i], \"\\n\")\n",
    "}\n",
    "\n",
    "display <- function(key, value){\n",
    "    whitespace <- 20\n",
    "    \n",
    "}"
   ]
  },
  {
   "cell_type": "markdown",
   "metadata": {},
   "source": [
    "#### *1. Mean*"
   ]
  },
  {
   "cell_type": "code",
   "execution_count": 2,
   "metadata": {
    "vscode": {
     "languageId": "r"
    }
   },
   "outputs": [
    {
     "name": "stdout",
     "output_type": "stream",
     "text": [
      "Mean data of every column: \n",
      "\n",
      "1 .  fixed.acidity :  7.15253 \n",
      "2 .  volatile.acidity :  0.5208385 \n",
      "3 .  citric.acid :  0.270517 \n",
      "4 .  residual.sugar :  2.567104 \n",
      "5 .  chlorides :  0.08119515 \n",
      "6 .  free.sulfur.dioxide :  14.90768 \n",
      "7 .  total.sulfur.dioxide :  40.29015 \n",
      "8 .  density :  0.9959253 \n",
      "9 .  pH :  3.30361 \n",
      "10 .  sulphates :  0.59839 \n",
      "11 .  alcohol :  10.59228 \n",
      "12 .  quality :  7.958 \n"
     ]
    }
   ],
   "source": [
    "df_means <- colMeans(df)\n",
    "\n",
    "cat(\"Mean data of every column: \\n\")\n",
    "cat(\"\\n\")\n",
    "for (i in enums_col){\n",
    "    cat(i,\". \",df_colNames[i], \": \", df_means[i], \"\\n\")\n",
    "}\n",
    "\n",
    "# Every mean of the columns are stored in df_means"
   ]
  },
  {
   "cell_type": "markdown",
   "metadata": {},
   "source": [
    "#### *2. Median*"
   ]
  },
  {
   "cell_type": "code",
   "execution_count": 3,
   "metadata": {
    "vscode": {
     "languageId": "r"
    }
   },
   "outputs": [
    {
     "name": "stdout",
     "output_type": "stream",
     "text": [
      "Median data of every column: \n",
      "\n",
      "1 .  fixed.acidity :  7.15 \n",
      "2 .  volatile.acidity :  0.52485 \n",
      "3 .  citric.acid :  0.2722 \n",
      "4 .  residual.sugar :  2.51943 \n",
      "5 .  chlorides :  0.0821669 \n",
      "6 .  free.sulfur.dioxide :  14.86035 \n",
      "7 .  total.sulfur.dioxide :  40.19 \n",
      "8 .  density :  0.996 \n",
      "9 .  pH :  3.3 \n",
      "10 .  sulphates :  0.595 \n",
      "11 .  alcohol :  10.61 \n",
      "12 .  quality :  8 \n"
     ]
    }
   ],
   "source": [
    "df_medians <- list()\n",
    "\n",
    "cat(\"Median data of every column: \\n\")\n",
    "cat(\"\\n\")\n",
    "for ( i in enums_col){\n",
    "    tempMean <- median(df[,df_colNames[i]])\n",
    "    df_medians <- append(df_medians, tempMean)\n",
    "    cat(i,\". \",df_colNames[i],\": \",tempMean, \"\\n\")\n",
    "}\n",
    "\n",
    "# Every median of the columns are stored in df_medians"
   ]
  },
  {
   "cell_type": "markdown",
   "metadata": {},
   "source": [
    "#### *3. Mode*"
   ]
  },
  {
   "cell_type": "code",
   "execution_count": 4,
   "metadata": {
    "vscode": {
     "languageId": "r"
    }
   },
   "outputs": [
    {
     "name": "stdout",
     "output_type": "stream",
     "text": [
      "Mode data of every column: \n",
      "\n",
      "1 .  fixed.acidity :  5.9 \n",
      "2 .  volatile.acidity :  0.5768 \n",
      "3 .  citric.acid :  0.3248 \n",
      "4 .  residual.sugar :  3.371815 \n",
      "5 .  chlorides :  0.06637859 \n",
      "6 .  free.sulfur.dioxide :  12.23217 \n",
      "7 .  total.sulfur.dioxide :  44.26 \n",
      "8 .  density :  0.9999 \n",
      "9 .  pH :  3.27 \n",
      "10 .  sulphates :  0.51 \n",
      "11 .  alcohol :  10.52 \n",
      "12 .  quality :  9 \n"
     ]
    }
   ],
   "source": [
    "getmode <- function(v) {\n",
    "    uniquev <- unique(v)\n",
    "    maxCount <- 0\n",
    "    maxElmt <- 0\n",
    "    for (j in c(1:row)){\n",
    "        temp <- v[i]\n",
    "        count <- 0\n",
    "        for (k in c(i:row)){\n",
    "            if (temp == v[k]){\n",
    "                count <- count + 1\n",
    "            }\n",
    "        }\n",
    "        if (count > maxCount){\n",
    "            maxCount <- count\n",
    "            maxElmt <- temp\n",
    "        }\n",
    "    }\n",
    "    return(maxElmt)\n",
    "}\n",
    "\n",
    "df_modes <- list()\n",
    "\n",
    "cat(\"Mode data of every column: \\n\")\n",
    "cat(\"\\n\")\n",
    "\n",
    "for ( i in enums_col){\n",
    "    tempMode <- getmode(df[,df_colNames[i]])\n",
    "    df_modes <- append(df_modes, tempMode)\n",
    "    cat(i,\". \",df_colNames[i],\": \",tempMode, \"\\n\")\n",
    "}\n",
    "\n",
    "# Every mode of the columns are stored in df_modes"
   ]
  },
  {
   "cell_type": "markdown",
   "metadata": {},
   "source": [
    "#### *4. Standard Deviation*"
   ]
  },
  {
   "cell_type": "code",
   "execution_count": 5,
   "metadata": {
    "vscode": {
     "languageId": "r"
    }
   },
   "outputs": [
    {
     "name": "stdout",
     "output_type": "stream",
     "text": [
      "Standard Deviation data of every column: \n",
      "\n",
      "1 .  fixed.acidity :  1.201598 \n",
      "2 .  volatile.acidity :  0.09584827 \n",
      "3 .  citric.acid :  0.04909837 \n",
      "4 .  residual.sugar :  0.9879154 \n",
      "5 .  chlorides :  0.02011065 \n",
      "6 .  free.sulfur.dioxide :  4.8881 \n",
      "7 .  total.sulfur.dioxide :  9.965767 \n",
      "8 .  density :  0.002020181 \n",
      "9 .  pH :  0.1048755 \n",
      "10 .  sulphates :  0.100819 \n",
      "11 .  alcohol :  1.510706 \n",
      "12 .  quality :  0.9028018 \n"
     ]
    }
   ],
   "source": [
    "df_stddev <- list()\n",
    "\n",
    "cat(\"Standard Deviation data of every column: \\n\")\n",
    "cat(\"\\n\")\n",
    "\n",
    "for ( i in enums_col){\n",
    "    tempStddev <- sd(df[,df_colNames[i]])\n",
    "    df_stddev <- append(df_stddev, tempStddev)\n",
    "    cat(i,\". \",df_colNames[i],\": \",tempStddev, \"\\n\")\n",
    "}\n",
    "\n",
    "# Every Standard Deviation of the columns are stored in df_stddev"
   ]
  },
  {
   "cell_type": "markdown",
   "metadata": {},
   "source": [
    "#### *5. Variance*"
   ]
  },
  {
   "cell_type": "code",
   "execution_count": 6,
   "metadata": {
    "vscode": {
     "languageId": "r"
    }
   },
   "outputs": [
    {
     "name": "stdout",
     "output_type": "stream",
     "text": [
      "Variance data of every column: \n",
      "\n",
      "1 .  fixed.acidity :  1.443837 \n",
      "2 .  volatile.acidity :  0.009186892 \n",
      "3 .  citric.acid :  0.00241065 \n",
      "4 .  residual.sugar :  0.9759769 \n",
      "5 .  chlorides :  0.0004044381 \n",
      "6 .  free.sulfur.dioxide :  23.89352 \n",
      "7 .  total.sulfur.dioxide :  99.31652 \n",
      "8 .  density :  4.081131e-06 \n",
      "9 .  pH :  0.01099887 \n",
      "10 .  sulphates :  0.01016447 \n",
      "11 .  alcohol :  2.282233 \n",
      "12 .  quality :  0.8150511 \n"
     ]
    }
   ],
   "source": [
    "df_var <- list()\n",
    "\n",
    "cat(\"Variance data of every column: \\n\")\n",
    "cat(\"\\n\")\n",
    "\n",
    "for ( i in enums_col){\n",
    "    tempVar <- sd(df[,df_colNames[i]]) ^ (2)\n",
    "    df_var <- append(df_var, tempVar)\n",
    "    cat(i,\". \",df_colNames[i],\": \",tempVar, \"\\n\")\n",
    "}\n",
    "\n",
    "# Every Variance of the columns are stored in df_var"
   ]
  },
  {
   "cell_type": "markdown",
   "metadata": {},
   "source": [
    "#### *6. Range*"
   ]
  },
  {
   "cell_type": "code",
   "execution_count": 7,
   "metadata": {
    "vscode": {
     "languageId": "r"
    }
   },
   "outputs": [
    {
     "name": "stdout",
     "output_type": "stream",
     "text": [
      "Range data of every column: \n",
      "\n",
      "1 .  fixed.acidity :  8.17 \n",
      "2 .  volatile.acidity :  0.6652 \n",
      "3 .  citric.acid :  0.2929 \n",
      "4 .  residual.sugar :  5.5182 \n",
      "5 .  chlorides :  0.1256351 \n",
      "6 .  free.sulfur.dioxide :  27.26785 \n",
      "7 .  total.sulfur.dioxide :  66.81 \n",
      "8 .  density :  0.0138 \n",
      "9 .  pH :  0.74 \n",
      "10 .  sulphates :  0.67 \n",
      "11 .  alcohol :  8.99 \n",
      "12 .  quality :  5 \n"
     ]
    }
   ],
   "source": [
    "df_ranges <- list()\n",
    "\n",
    "cat(\"Range data of every column: \\n\")\n",
    "cat(\"\\n\")\n",
    "\n",
    "for ( i in enums_col){\n",
    "    tempRange <- max(df[,df_colNames[i]]) - min(df[,df_colNames[i]])\n",
    "    df_ranges <- append(df_ranges, tempRange)\n",
    "    cat(i,\". \", df_colNames[i],\": \",tempRange, \"\\n\")\n",
    "}\n",
    "\n",
    "\n",
    "# Every range value of the columns are stored in df_ranges"
   ]
  },
  {
   "cell_type": "markdown",
   "metadata": {},
   "source": [
    "#### *7. Minimum Value*"
   ]
  },
  {
   "cell_type": "code",
   "execution_count": 8,
   "metadata": {
    "vscode": {
     "languageId": "r"
    }
   },
   "outputs": [
    {
     "name": "stdout",
     "output_type": "stream",
     "text": [
      "Minimum value data of every column: \n",
      "\n",
      "1 .  fixed.acidity :  3.32 \n",
      "2 .  volatile.acidity :  0.1399 \n",
      "3 .  citric.acid :  0.1167 \n",
      "4 .  residual.sugar :  0.03255453 \n",
      "5 .  chlorides :  0.01512244 \n",
      "6 .  free.sulfur.dioxide :  0.1946785 \n",
      "7 .  total.sulfur.dioxide :  3.15 \n",
      "8 .  density :  0.9888 \n",
      "9 .  pH :  2.97 \n",
      "10 .  sulphates :  0.29 \n",
      "11 .  alcohol :  6.03 \n",
      "12 .  quality :  5 \n"
     ]
    }
   ],
   "source": [
    "df_mins <- list()\n",
    "\n",
    "cat(\"Minimum value data of every column: \\n\")\n",
    "cat(\"\\n\")\n",
    "\n",
    "for ( i in enums_col){\n",
    "    tempMin <- min(df[,df_colNames[i]])\n",
    "    df_mins <- append(df_mins, tempMin)\n",
    "    cat(i,\". \",df_colNames[i],\": \",tempMin, \"\\n\")\n",
    "}\n",
    "\n",
    "# Every minimum value of the columns are stored in df_mins"
   ]
  },
  {
   "cell_type": "markdown",
   "metadata": {},
   "source": [
    "#### *8. Maximum Value*"
   ]
  },
  {
   "cell_type": "code",
   "execution_count": 9,
   "metadata": {
    "vscode": {
     "languageId": "r"
    }
   },
   "outputs": [
    {
     "name": "stdout",
     "output_type": "stream",
     "text": [
      "Maximum value data of every column: \n",
      "\n",
      "1 .  fixed.acidity :  11.49 \n",
      "2 .  volatile.acidity :  0.8051 \n",
      "3 .  citric.acid :  0.4096 \n",
      "4 .  residual.sugar :  5.550755 \n",
      "5 .  chlorides :  0.1407576 \n",
      "6 .  free.sulfur.dioxide :  27.46253 \n",
      "7 .  total.sulfur.dioxide :  69.96 \n",
      "8 .  density :  1.0026 \n",
      "9 .  pH :  3.71 \n",
      "10 .  sulphates :  0.96 \n",
      "11 .  alcohol :  15.02 \n",
      "12 .  quality :  10 \n"
     ]
    }
   ],
   "source": [
    "df_maxs <- list()\n",
    "\n",
    "cat(\"Maximum value data of every column: \\n\")\n",
    "cat(\"\\n\")\n",
    "\n",
    "for ( i in enums_col){\n",
    "    tempMax <- max(df[,df_colNames[i]])\n",
    "    df_maxs <- append(df_maxs, tempMax)\n",
    "    cat(i,\". \", df_colNames[i],\": \",tempMax, \"\\n\")\n",
    "}\n",
    "\n",
    "\n",
    "# Every maximum value of the columns are stored in df_maxs"
   ]
  },
  {
   "cell_type": "markdown",
   "metadata": {},
   "source": [
    "#### *9. Quartile*"
   ]
  },
  {
   "cell_type": "code",
   "execution_count": 10,
   "metadata": {
    "vscode": {
     "languageId": "r"
    }
   },
   "outputs": [
    {
     "name": "stdout",
     "output_type": "stream",
     "text": [
      "Quartile data of every column: \n",
      "\n",
      "1 .  fixed.acidity :  6.3775 ,  7.15 ,  8 \n",
      "2 .  volatile.acidity :  0.4561 ,  0.52485 ,  0.585375 \n",
      "3 .  citric.acid :  0.2378 ,  0.2722 ,  0.302325 \n",
      "4 .  residual.sugar :  1.89633 ,  2.51943 ,  3.220873 \n",
      "5 .  chlorides :  0.06657363 ,  0.0821669 ,  0.0953115 \n",
      "6 .  free.sulfur.dioxide :  11.42672 ,  14.86035 ,  18.3131 \n",
      "7 .  total.sulfur.dioxide :  33.785 ,  40.19 ,  47.0225 \n",
      "8 .  density :  0.9946 ,  0.996 ,  0.9972 \n",
      "9 .  pH :  3.23 ,  3.3 ,  3.37 \n",
      "10 .  sulphates :  0.53 ,  0.595 ,  0.67 \n",
      "11 .  alcohol :  9.56 ,  10.61 ,  11.6225 \n",
      "12 .  quality :  7 ,  8 ,  9 \n"
     ]
    }
   ],
   "source": [
    "df_quartiles <- list()\n",
    "\n",
    "cat(\"Quartile data of every column: \\n\")\n",
    "cat(\"\\n\")\n",
    "\n",
    "for ( i in enums_col){\n",
    "    tempQuartile <- quantile(df[,df_colNames[i]], probs = c(0.25, 0.5, 0.75))\n",
    "    df_quartiles <- append(df_quartiles, tempQuartile)\n",
    "    cat(i,\". \", df_colNames[i],\": \",tempQuartile[1],\", \", tempQuartile[2], \", \", tempQuartile[3], \"\\n\")\n",
    "}\n",
    "\n",
    "# Every quartile value of the columns are stored in df_quartiles"
   ]
  },
  {
   "cell_type": "markdown",
   "metadata": {},
   "source": [
    "#### *10. Interquartile Range*"
   ]
  },
  {
   "cell_type": "code",
   "execution_count": 11,
   "metadata": {
    "vscode": {
     "languageId": "r"
    }
   },
   "outputs": [
    {
     "name": "stdout",
     "output_type": "stream",
     "text": [
      "Interquartile Range data of every column: \n",
      "\n",
      "1 .  fixed.acidity :  1.6225 \n",
      "2 .  volatile.acidity :  0.129275 \n",
      "3 .  citric.acid :  0.064525 \n",
      "4 .  residual.sugar :  1.324544 \n",
      "5 .  chlorides :  0.02873787 \n",
      "6 .  free.sulfur.dioxide :  6.886381 \n",
      "7 .  total.sulfur.dioxide :  13.2375 \n",
      "8 .  density :  0.0026 \n",
      "9 .  pH :  0.14 \n",
      "10 .  sulphates :  0.14 \n",
      "11 .  alcohol :  2.0625 \n",
      "12 .  quality :  2 \n"
     ]
    }
   ],
   "source": [
    "df_IQRanges <- list()\n",
    "\n",
    "cat(\"Interquartile Range data of every column: \\n\")\n",
    "cat(\"\\n\")\n",
    "\n",
    "for (i in enums_col){\n",
    "    tempQuantile <- quantile(df[,df_colNames[i]], probs = c(0.25, 0.75))\n",
    "    tempIRQ <- tempQuantile[2] - tempQuantile[1]\n",
    "    df_IQRanges <- append(df_IQRanges, tempIRQ)\n",
    "    cat(i,\". \", df_colNames[i],\": \",tempIRQ, \"\\n\")\n",
    "}\n",
    "\n",
    "# Every Interquartile Range value of the columns are stored in df_IQRanges"
   ]
  },
  {
   "cell_type": "markdown",
   "metadata": {},
   "source": [
    "#### *11. Skewness*"
   ]
  },
  {
   "cell_type": "code",
   "execution_count": 12,
   "metadata": {
    "vscode": {
     "languageId": "r"
    }
   },
   "outputs": [
    {
     "name": "stdout",
     "output_type": "stream",
     "text": [
      "Skewness data of every column: \n",
      "\n",
      "1 .  fixed.acidity :  -0.02882082 \n",
      "2 .  volatile.acidity :  -0.1973033 \n",
      "3 .  citric.acid :  -0.04548491 \n",
      "4 .  residual.sugar :  0.1323728 \n",
      "5 .  chlorides :  -0.05121666 \n",
      "6 .  free.sulfur.dioxide :  0.007116155 \n",
      "7 .  total.sulfur.dioxide :  -0.02401191 \n",
      "8 .  density :  -0.07672902 \n",
      "9 .  pH :  0.1473772 \n",
      "10 .  sulphates :  0.1489005 \n",
      "11 .  alcohol :  -0.01895342 \n",
      "12 .  quality :  -0.08887598 \n"
     ]
    }
   ],
   "source": [
    "df_skewnesses <- list()\n",
    "\n",
    "\n",
    "cat(\"Skewness data of every column: \\n\")\n",
    "cat(\"\\n\")\n",
    "\n",
    "for ( i in enums_col){\n",
    "    tempMean <- mean(df[,df_colNames[i]])\n",
    "    tempStddev <- sd(df[,df_colNames[i]])\n",
    "    count <- 0\n",
    "    for (j in enums_row){\n",
    "        count <- count + (df[j, df_colNames[i]] - tempMean) ^3\n",
    "    }\n",
    "    tempSkewness <- count / ((row-1) * (tempStddev ^3))\n",
    "    cat(i,\". \", df_colNames[i],\": \",tempSkewness, \"\\n\")\n",
    "}\n"
   ]
  },
  {
   "cell_type": "markdown",
   "metadata": {},
   "source": [
    "#### *12. Kurtosis*"
   ]
  },
  {
   "cell_type": "code",
   "execution_count": 13,
   "metadata": {
    "vscode": {
     "languageId": "r"
    }
   },
   "outputs": [
    {
     "name": "stdout",
     "output_type": "stream",
     "text": [
      "Kurtosis data of every column: \n",
      "\n",
      "1 .  fixed.acidity :  0.003193568 \n",
      "2 .  volatile.acidity :  0.003718834 \n",
      "3 .  citric.acid :  0.0004053175 \n",
      "4 .  residual.sugar :  0.1635031 \n",
      "5 .  chlorides :  7.516648e-05 \n",
      "6 .  free.sulfur.dioxide :  0.03485132 \n",
      "7 .  total.sulfur.dioxide :  0.01201095 \n",
      "8 .  density :  2.435511e-06 \n",
      "9 .  pH :  6.408039e-06 \n",
      "10 .  sulphates :  0.004643978 \n",
      "11 .  alcohol :  0.001441263 \n",
      "12 .  quality :  0.0006705269 \n"
     ]
    }
   ],
   "source": [
    "df_kurtosises <- list()\n",
    "\n",
    "getKurtosis <- function(v) {\n",
    "    \n",
    "}\n",
    "\n",
    "cat(\"Kurtosis data of every column: \\n\")\n",
    "cat(\"\\n\")\n",
    "\n",
    "for ( i in enums_col){\n",
    "    tempMean <- mean(df[,df_colNames[i]])\n",
    "    numerator <- 0\n",
    "    denominator <- 0\n",
    "    for (j in enums_row){\n",
    "        numerator <- numerator + (df[j, df_colNames[i]] - tempMean) ^ 4\n",
    "    }\n",
    "    for (j in enums_row){\n",
    "        denominator <- denominator + (df[j, df_colNames[i]] - (tempMean^2))^2\n",
    "    }\n",
    "    tempKurtosis <- numerator / denominator   \n",
    "    cat(i,\". \", df_colNames[i],\": \",tempKurtosis, \"\\n\")\n",
    "}\n"
   ]
  },
  {
   "cell_type": "code",
   "execution_count": null,
   "metadata": {},
   "outputs": [],
   "source": []
  }
 ],
 "metadata": {
  "kernelspec": {
   "display_name": "R",
   "language": "R",
   "name": "ir"
  },
  "language_info": {
   "codemirror_mode": "r",
   "file_extension": ".r",
   "mimetype": "text/x-r-source",
   "name": "R",
   "pygments_lexer": "r",
   "version": "4.2.3"
  }
 },
 "nbformat": 4,
 "nbformat_minor": 2
}
