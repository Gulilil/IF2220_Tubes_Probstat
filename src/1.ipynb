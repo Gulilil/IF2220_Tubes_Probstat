{
 "cells": [
  {
   "cell_type": "markdown",
   "metadata": {},
   "source": [
    "# Tugas Besar IF2220 - Probabilitas dan Statistika\n",
    "### <font color='#3776ab'>Part 1: Statistics Description</font>\n",
    "Anggota: <br>\n",
    "13521116 - Juan Christopher Santoso <br>\n",
    "13521162 - Antonio Natthan Krishna <br>\n",
    "\n"
   ]
  },
  {
   "cell_type": "markdown",
   "metadata": {},
   "source": [
    "### Data Preparation and Data Description (Run this Code First)"
   ]
  },
  {
   "cell_type": "code",
   "execution_count": 21,
   "metadata": {
    "vscode": {
     "languageId": "r"
    }
   },
   "outputs": [
    {
     "data": {
      "text/html": [
       "<table class=\"dataframe\">\n",
       "<caption>A matrix: 2 × 2 of type chr</caption>\n",
       "<thead>\n",
       "\t<tr><th scope=col>properties</th><th scope=col>value</th></tr>\n",
       "</thead>\n",
       "<tbody>\n",
       "\t<tr><td>Rows   </td><td>1000</td></tr>\n",
       "\t<tr><td>Columns</td><td>12  </td></tr>\n",
       "</tbody>\n",
       "</table>\n"
      ],
      "text/latex": [
       "A matrix: 2 × 2 of type chr\n",
       "\\begin{tabular}{ll}\n",
       " properties & value\\\\\n",
       "\\hline\n",
       "\t Rows    & 1000\\\\\n",
       "\t Columns & 12  \\\\\n",
       "\\end{tabular}\n"
      ],
      "text/markdown": [
       "\n",
       "A matrix: 2 × 2 of type chr\n",
       "\n",
       "| properties | value |\n",
       "|---|---|\n",
       "| Rows    | 1000 |\n",
       "| Columns | 12   |\n",
       "\n"
      ],
      "text/plain": [
       "     properties value\n",
       "[1,] Rows       1000 \n",
       "[2,] Columns    12   "
      ]
     },
     "metadata": {},
     "output_type": "display_data"
    },
    {
     "data": {
      "text/html": [
       "<table class=\"dataframe\">\n",
       "<caption>A matrix: 12 × 2 of type chr</caption>\n",
       "<thead>\n",
       "\t<tr><th scope=col>columns_index</th><th scope=col>columns_name</th></tr>\n",
       "</thead>\n",
       "<tbody>\n",
       "\t<tr><td>1 </td><td>fixed.acidity       </td></tr>\n",
       "\t<tr><td>2 </td><td>volatile.acidity    </td></tr>\n",
       "\t<tr><td>3 </td><td>citric.acid         </td></tr>\n",
       "\t<tr><td>4 </td><td>residual.sugar      </td></tr>\n",
       "\t<tr><td>5 </td><td>chlorides           </td></tr>\n",
       "\t<tr><td>6 </td><td>free.sulfur.dioxide </td></tr>\n",
       "\t<tr><td>7 </td><td>total.sulfur.dioxide</td></tr>\n",
       "\t<tr><td>8 </td><td>density             </td></tr>\n",
       "\t<tr><td>9 </td><td>pH                  </td></tr>\n",
       "\t<tr><td>10</td><td>sulphates           </td></tr>\n",
       "\t<tr><td>11</td><td>alcohol             </td></tr>\n",
       "\t<tr><td>12</td><td>quality             </td></tr>\n",
       "</tbody>\n",
       "</table>\n"
      ],
      "text/latex": [
       "A matrix: 12 × 2 of type chr\n",
       "\\begin{tabular}{ll}\n",
       " columns\\_index & columns\\_name\\\\\n",
       "\\hline\n",
       "\t 1  & fixed.acidity       \\\\\n",
       "\t 2  & volatile.acidity    \\\\\n",
       "\t 3  & citric.acid         \\\\\n",
       "\t 4  & residual.sugar      \\\\\n",
       "\t 5  & chlorides           \\\\\n",
       "\t 6  & free.sulfur.dioxide \\\\\n",
       "\t 7  & total.sulfur.dioxide\\\\\n",
       "\t 8  & density             \\\\\n",
       "\t 9  & pH                  \\\\\n",
       "\t 10 & sulphates           \\\\\n",
       "\t 11 & alcohol             \\\\\n",
       "\t 12 & quality             \\\\\n",
       "\\end{tabular}\n"
      ],
      "text/markdown": [
       "\n",
       "A matrix: 12 × 2 of type chr\n",
       "\n",
       "| columns_index | columns_name |\n",
       "|---|---|\n",
       "| 1  | fixed.acidity        |\n",
       "| 2  | volatile.acidity     |\n",
       "| 3  | citric.acid          |\n",
       "| 4  | residual.sugar       |\n",
       "| 5  | chlorides            |\n",
       "| 6  | free.sulfur.dioxide  |\n",
       "| 7  | total.sulfur.dioxide |\n",
       "| 8  | density              |\n",
       "| 9  | pH                   |\n",
       "| 10 | sulphates            |\n",
       "| 11 | alcohol              |\n",
       "| 12 | quality              |\n",
       "\n"
      ],
      "text/plain": [
       "      columns_index columns_name        \n",
       " [1,] 1             fixed.acidity       \n",
       " [2,] 2             volatile.acidity    \n",
       " [3,] 3             citric.acid         \n",
       " [4,] 4             residual.sugar      \n",
       " [5,] 5             chlorides           \n",
       " [6,] 6             free.sulfur.dioxide \n",
       " [7,] 7             total.sulfur.dioxide\n",
       " [8,] 8             density             \n",
       " [9,] 9             pH                  \n",
       "[10,] 10            sulphates           \n",
       "[11,] 11            alcohol             \n",
       "[12,] 12            quality             "
      ]
     },
     "metadata": {},
     "output_type": "display_data"
    }
   ],
   "source": [
    "# Import Dataset\n",
    "df <- read.csv(\"..\\\\test\\\\anggur.csv\")\n",
    "\n",
    "# Data Statistics\n",
    "properties <- c(\"Rows\", \"Columns\")\n",
    "value <- c(nrow(df), ncol(df))\n",
    "cbind(properties, value)\n",
    "\n",
    "# List of Columns\n",
    "columns_index <- c(1:ncol(df))\n",
    "columns_name <- colnames(df)\n",
    "\n",
    "# Display List\n",
    "cbind(columns_index, columns_name)"
   ]
  },
  {
   "cell_type": "markdown",
   "metadata": {},
   "source": [
    "#### *1. Mean*"
   ]
  },
  {
   "cell_type": "code",
   "execution_count": 18,
   "metadata": {
    "vscode": {
     "languageId": "r"
    }
   },
   "outputs": [
    {
     "name": "stdout",
     "output_type": "stream",
     "text": [
      "Column's Mean:\n"
     ]
    },
    {
     "data": {
      "text/html": [
       "<table class=\"dataframe\">\n",
       "<caption>A matrix: 12 × 1 of type dbl</caption>\n",
       "<thead>\n",
       "\t<tr><th></th><th scope=col>columns_mean</th></tr>\n",
       "</thead>\n",
       "<tbody>\n",
       "\t<tr><th scope=row>fixed.acidity</th><td> 7.15253000</td></tr>\n",
       "\t<tr><th scope=row>volatile.acidity</th><td> 0.52083850</td></tr>\n",
       "\t<tr><th scope=row>citric.acid</th><td> 0.27051700</td></tr>\n",
       "\t<tr><th scope=row>residual.sugar</th><td> 2.56710368</td></tr>\n",
       "\t<tr><th scope=row>chlorides</th><td> 0.08119515</td></tr>\n",
       "\t<tr><th scope=row>free.sulfur.dioxide</th><td>14.90767925</td></tr>\n",
       "\t<tr><th scope=row>total.sulfur.dioxide</th><td>40.29015000</td></tr>\n",
       "\t<tr><th scope=row>density</th><td> 0.99592530</td></tr>\n",
       "\t<tr><th scope=row>pH</th><td> 3.30361000</td></tr>\n",
       "\t<tr><th scope=row>sulphates</th><td> 0.59839000</td></tr>\n",
       "\t<tr><th scope=row>alcohol</th><td>10.59228000</td></tr>\n",
       "\t<tr><th scope=row>quality</th><td> 7.95800000</td></tr>\n",
       "</tbody>\n",
       "</table>\n"
      ],
      "text/latex": [
       "A matrix: 12 × 1 of type dbl\n",
       "\\begin{tabular}{r|l}\n",
       "  & columns\\_mean\\\\\n",
       "\\hline\n",
       "\tfixed.acidity &  7.15253000\\\\\n",
       "\tvolatile.acidity &  0.52083850\\\\\n",
       "\tcitric.acid &  0.27051700\\\\\n",
       "\tresidual.sugar &  2.56710368\\\\\n",
       "\tchlorides &  0.08119515\\\\\n",
       "\tfree.sulfur.dioxide & 14.90767925\\\\\n",
       "\ttotal.sulfur.dioxide & 40.29015000\\\\\n",
       "\tdensity &  0.99592530\\\\\n",
       "\tpH &  3.30361000\\\\\n",
       "\tsulphates &  0.59839000\\\\\n",
       "\talcohol & 10.59228000\\\\\n",
       "\tquality &  7.95800000\\\\\n",
       "\\end{tabular}\n"
      ],
      "text/markdown": [
       "\n",
       "A matrix: 12 × 1 of type dbl\n",
       "\n",
       "| <!--/--> | columns_mean |\n",
       "|---|---|\n",
       "| fixed.acidity |  7.15253000 |\n",
       "| volatile.acidity |  0.52083850 |\n",
       "| citric.acid |  0.27051700 |\n",
       "| residual.sugar |  2.56710368 |\n",
       "| chlorides |  0.08119515 |\n",
       "| free.sulfur.dioxide | 14.90767925 |\n",
       "| total.sulfur.dioxide | 40.29015000 |\n",
       "| density |  0.99592530 |\n",
       "| pH |  3.30361000 |\n",
       "| sulphates |  0.59839000 |\n",
       "| alcohol | 10.59228000 |\n",
       "| quality |  7.95800000 |\n",
       "\n"
      ],
      "text/plain": [
       "                     columns_mean\n",
       "fixed.acidity         7.15253000 \n",
       "volatile.acidity      0.52083850 \n",
       "citric.acid           0.27051700 \n",
       "residual.sugar        2.56710368 \n",
       "chlorides             0.08119515 \n",
       "free.sulfur.dioxide  14.90767925 \n",
       "total.sulfur.dioxide 40.29015000 \n",
       "density               0.99592530 \n",
       "pH                    3.30361000 \n",
       "sulphates             0.59839000 \n",
       "alcohol              10.59228000 \n",
       "quality               7.95800000 "
      ]
     },
     "metadata": {},
     "output_type": "display_data"
    }
   ],
   "source": [
    "cat(\"Column's Mean:\\n\")\n",
    "\n",
    "columns_mean <- colMeans(df)\n",
    "cbind(columns_mean)"
   ]
  },
  {
   "cell_type": "markdown",
   "metadata": {},
   "source": [
    "#### *2. Median*"
   ]
  },
  {
   "cell_type": "code",
   "execution_count": 22,
   "metadata": {
    "vscode": {
     "languageId": "r"
    }
   },
   "outputs": [
    {
     "name": "stdout",
     "output_type": "stream",
     "text": [
      "Column's Median: \n"
     ]
    },
    {
     "data": {
      "text/html": [
       "<table class=\"dataframe\">\n",
       "<caption>A matrix: 12 × 2 of type chr</caption>\n",
       "<thead>\n",
       "\t<tr><th scope=col>columns_name</th><th scope=col>columns_median</th></tr>\n",
       "</thead>\n",
       "<tbody>\n",
       "\t<tr><td>fixed.acidity       </td><td>7.15              </td></tr>\n",
       "\t<tr><td>volatile.acidity    </td><td>0.52485           </td></tr>\n",
       "\t<tr><td>citric.acid         </td><td>0.2722            </td></tr>\n",
       "\t<tr><td>residual.sugar      </td><td>2.51943027286579  </td></tr>\n",
       "\t<tr><td>chlorides           </td><td>0.0821669021645236</td></tr>\n",
       "\t<tr><td>free.sulfur.dioxide </td><td>14.8603462365689  </td></tr>\n",
       "\t<tr><td>total.sulfur.dioxide</td><td>40.19             </td></tr>\n",
       "\t<tr><td>density             </td><td>0.996             </td></tr>\n",
       "\t<tr><td>pH                  </td><td>3.3               </td></tr>\n",
       "\t<tr><td>sulphates           </td><td>0.595             </td></tr>\n",
       "\t<tr><td>alcohol             </td><td>10.61             </td></tr>\n",
       "\t<tr><td>quality             </td><td>8                 </td></tr>\n",
       "</tbody>\n",
       "</table>\n"
      ],
      "text/latex": [
       "A matrix: 12 × 2 of type chr\n",
       "\\begin{tabular}{ll}\n",
       " columns\\_name & columns\\_median\\\\\n",
       "\\hline\n",
       "\t fixed.acidity        & 7.15              \\\\\n",
       "\t volatile.acidity     & 0.52485           \\\\\n",
       "\t citric.acid          & 0.2722            \\\\\n",
       "\t residual.sugar       & 2.51943027286579  \\\\\n",
       "\t chlorides            & 0.0821669021645236\\\\\n",
       "\t free.sulfur.dioxide  & 14.8603462365689  \\\\\n",
       "\t total.sulfur.dioxide & 40.19             \\\\\n",
       "\t density              & 0.996             \\\\\n",
       "\t pH                   & 3.3               \\\\\n",
       "\t sulphates            & 0.595             \\\\\n",
       "\t alcohol              & 10.61             \\\\\n",
       "\t quality              & 8                 \\\\\n",
       "\\end{tabular}\n"
      ],
      "text/markdown": [
       "\n",
       "A matrix: 12 × 2 of type chr\n",
       "\n",
       "| columns_name | columns_median |\n",
       "|---|---|\n",
       "| fixed.acidity        | 7.15               |\n",
       "| volatile.acidity     | 0.52485            |\n",
       "| citric.acid          | 0.2722             |\n",
       "| residual.sugar       | 2.51943027286579   |\n",
       "| chlorides            | 0.0821669021645236 |\n",
       "| free.sulfur.dioxide  | 14.8603462365689   |\n",
       "| total.sulfur.dioxide | 40.19              |\n",
       "| density              | 0.996              |\n",
       "| pH                   | 3.3                |\n",
       "| sulphates            | 0.595              |\n",
       "| alcohol              | 10.61              |\n",
       "| quality              | 8                  |\n",
       "\n"
      ],
      "text/plain": [
       "      columns_name         columns_median    \n",
       " [1,] fixed.acidity        7.15              \n",
       " [2,] volatile.acidity     0.52485           \n",
       " [3,] citric.acid          0.2722            \n",
       " [4,] residual.sugar       2.51943027286579  \n",
       " [5,] chlorides            0.0821669021645236\n",
       " [6,] free.sulfur.dioxide  14.8603462365689  \n",
       " [7,] total.sulfur.dioxide 40.19             \n",
       " [8,] density              0.996             \n",
       " [9,] pH                   3.3               \n",
       "[10,] sulphates            0.595             \n",
       "[11,] alcohol              10.61             \n",
       "[12,] quality              8                 "
      ]
     },
     "metadata": {},
     "output_type": "display_data"
    }
   ],
   "source": [
    "cat(\"Column's Median: \\n\")\n",
    "\n",
    "columns_median = c(1:ncol(df))\n",
    "for (i in columns_index){\n",
    "    columns_median[i] <- median(df[,columns_name[i]])\n",
    "}\n",
    "cbind(columns_name, columns_median)\n"
   ]
  },
  {
   "cell_type": "markdown",
   "metadata": {},
   "source": [
    "#### *3. Mode*"
   ]
  },
  {
   "cell_type": "code",
   "execution_count": 42,
   "metadata": {
    "vscode": {
     "languageId": "r"
    }
   },
   "outputs": [
    {
     "name": "stdout",
     "output_type": "stream",
     "text": [
      "Column's Mode: \n"
     ]
    },
    {
     "data": {
      "text/html": [
       "<table class=\"dataframe\">\n",
       "<caption>A matrix: 12 × 2 of type chr</caption>\n",
       "<thead>\n",
       "\t<tr><th scope=col>columns_name</th><th scope=col>columns_mode</th></tr>\n",
       "</thead>\n",
       "<tbody>\n",
       "\t<tr><td>fixed.acidity       </td><td>5.9               </td></tr>\n",
       "\t<tr><td>volatile.acidity    </td><td>0.5768            </td></tr>\n",
       "\t<tr><td>citric.acid         </td><td>0.3248            </td></tr>\n",
       "\t<tr><td>residual.sugar      </td><td>3.37181458927355  </td></tr>\n",
       "\t<tr><td>chlorides           </td><td>0.0663785866479429</td></tr>\n",
       "\t<tr><td>free.sulfur.dioxide </td><td>12.2321700848591  </td></tr>\n",
       "\t<tr><td>total.sulfur.dioxide</td><td>44.26             </td></tr>\n",
       "\t<tr><td>density             </td><td>0.9999            </td></tr>\n",
       "\t<tr><td>pH                  </td><td>3.27              </td></tr>\n",
       "\t<tr><td>sulphates           </td><td>0.51              </td></tr>\n",
       "\t<tr><td>alcohol             </td><td>10.52             </td></tr>\n",
       "\t<tr><td>quality             </td><td>9                 </td></tr>\n",
       "</tbody>\n",
       "</table>\n"
      ],
      "text/latex": [
       "A matrix: 12 × 2 of type chr\n",
       "\\begin{tabular}{ll}\n",
       " columns\\_name & columns\\_mode\\\\\n",
       "\\hline\n",
       "\t fixed.acidity        & 5.9               \\\\\n",
       "\t volatile.acidity     & 0.5768            \\\\\n",
       "\t citric.acid          & 0.3248            \\\\\n",
       "\t residual.sugar       & 3.37181458927355  \\\\\n",
       "\t chlorides            & 0.0663785866479429\\\\\n",
       "\t free.sulfur.dioxide  & 12.2321700848591  \\\\\n",
       "\t total.sulfur.dioxide & 44.26             \\\\\n",
       "\t density              & 0.9999            \\\\\n",
       "\t pH                   & 3.27              \\\\\n",
       "\t sulphates            & 0.51              \\\\\n",
       "\t alcohol              & 10.52             \\\\\n",
       "\t quality              & 9                 \\\\\n",
       "\\end{tabular}\n"
      ],
      "text/markdown": [
       "\n",
       "A matrix: 12 × 2 of type chr\n",
       "\n",
       "| columns_name | columns_mode |\n",
       "|---|---|\n",
       "| fixed.acidity        | 5.9                |\n",
       "| volatile.acidity     | 0.5768             |\n",
       "| citric.acid          | 0.3248             |\n",
       "| residual.sugar       | 3.37181458927355   |\n",
       "| chlorides            | 0.0663785866479429 |\n",
       "| free.sulfur.dioxide  | 12.2321700848591   |\n",
       "| total.sulfur.dioxide | 44.26              |\n",
       "| density              | 0.9999             |\n",
       "| pH                   | 3.27               |\n",
       "| sulphates            | 0.51               |\n",
       "| alcohol              | 10.52              |\n",
       "| quality              | 9                  |\n",
       "\n"
      ],
      "text/plain": [
       "      columns_name         columns_mode      \n",
       " [1,] fixed.acidity        5.9               \n",
       " [2,] volatile.acidity     0.5768            \n",
       " [3,] citric.acid          0.3248            \n",
       " [4,] residual.sugar       3.37181458927355  \n",
       " [5,] chlorides            0.0663785866479429\n",
       " [6,] free.sulfur.dioxide  12.2321700848591  \n",
       " [7,] total.sulfur.dioxide 44.26             \n",
       " [8,] density              0.9999            \n",
       " [9,] pH                   3.27              \n",
       "[10,] sulphates            0.51              \n",
       "[11,] alcohol              10.52             \n",
       "[12,] quality              9                 "
      ]
     },
     "metadata": {},
     "output_type": "display_data"
    }
   ],
   "source": [
    "getmode <- function(v) {\n",
    "    uniquev <- unique(v)\n",
    "    maxCount <- 0\n",
    "    maxElmt <- 0\n",
    "    for (j in c(1:nrow(df))){\n",
    "        temp <- v[i]\n",
    "        count <- 0\n",
    "        for (k in c(i:nrow(df))){\n",
    "            if (temp == v[k]){\n",
    "                count <- count + 1\n",
    "            }\n",
    "        }\n",
    "        if (count > maxCount){\n",
    "            maxCount <- count\n",
    "            maxElmt <- temp\n",
    "        }\n",
    "    }\n",
    "    return(maxElmt)\n",
    "}\n",
    "\n",
    "cat(\"Column's Mode: \\n\")\n",
    "\n",
    "columns_mode = c(1:ncol(df))\n",
    "for (i in columns_index){\n",
    "    columns_mode[i] <- getmode(df[,columns_name[i]])\n",
    "}\n",
    "\n",
    "cbind(columns_name, columns_mode)"
   ]
  },
  {
   "cell_type": "markdown",
   "metadata": {},
   "source": [
    "#### *4. Standard Deviation*"
   ]
  },
  {
   "cell_type": "code",
   "execution_count": 24,
   "metadata": {
    "vscode": {
     "languageId": "r"
    }
   },
   "outputs": [
    {
     "name": "stdout",
     "output_type": "stream",
     "text": [
      "Column's Standard Deviation: \n"
     ]
    },
    {
     "data": {
      "text/html": [
       "<table class=\"dataframe\">\n",
       "<caption>A matrix: 12 × 2 of type chr</caption>\n",
       "<thead>\n",
       "\t<tr><th scope=col>columns_name</th><th scope=col>columns_std</th></tr>\n",
       "</thead>\n",
       "<tbody>\n",
       "\t<tr><td>fixed.acidity       </td><td>1.20159757649383   </td></tr>\n",
       "\t<tr><td>volatile.acidity    </td><td>0.0958482740553495 </td></tr>\n",
       "\t<tr><td>citric.acid         </td><td>0.0490983714707635 </td></tr>\n",
       "\t<tr><td>residual.sugar      </td><td>0.987915436504693  </td></tr>\n",
       "\t<tr><td>chlorides           </td><td>0.0201106472439967 </td></tr>\n",
       "\t<tr><td>free.sulfur.dioxide </td><td>4.88809970575656   </td></tr>\n",
       "\t<tr><td>total.sulfur.dioxide</td><td>9.9657673762183    </td></tr>\n",
       "\t<tr><td>density             </td><td>0.00202018094264871</td></tr>\n",
       "\t<tr><td>pH                  </td><td>0.104875482200402  </td></tr>\n",
       "\t<tr><td>sulphates           </td><td>0.100819007991412  </td></tr>\n",
       "\t<tr><td>alcohol             </td><td>1.51070600522876   </td></tr>\n",
       "\t<tr><td>quality             </td><td>0.902801778382747  </td></tr>\n",
       "</tbody>\n",
       "</table>\n"
      ],
      "text/latex": [
       "A matrix: 12 × 2 of type chr\n",
       "\\begin{tabular}{ll}\n",
       " columns\\_name & columns\\_std\\\\\n",
       "\\hline\n",
       "\t fixed.acidity        & 1.20159757649383   \\\\\n",
       "\t volatile.acidity     & 0.0958482740553495 \\\\\n",
       "\t citric.acid          & 0.0490983714707635 \\\\\n",
       "\t residual.sugar       & 0.987915436504693  \\\\\n",
       "\t chlorides            & 0.0201106472439967 \\\\\n",
       "\t free.sulfur.dioxide  & 4.88809970575656   \\\\\n",
       "\t total.sulfur.dioxide & 9.9657673762183    \\\\\n",
       "\t density              & 0.00202018094264871\\\\\n",
       "\t pH                   & 0.104875482200402  \\\\\n",
       "\t sulphates            & 0.100819007991412  \\\\\n",
       "\t alcohol              & 1.51070600522876   \\\\\n",
       "\t quality              & 0.902801778382747  \\\\\n",
       "\\end{tabular}\n"
      ],
      "text/markdown": [
       "\n",
       "A matrix: 12 × 2 of type chr\n",
       "\n",
       "| columns_name | columns_std |\n",
       "|---|---|\n",
       "| fixed.acidity        | 1.20159757649383    |\n",
       "| volatile.acidity     | 0.0958482740553495  |\n",
       "| citric.acid          | 0.0490983714707635  |\n",
       "| residual.sugar       | 0.987915436504693   |\n",
       "| chlorides            | 0.0201106472439967  |\n",
       "| free.sulfur.dioxide  | 4.88809970575656    |\n",
       "| total.sulfur.dioxide | 9.9657673762183     |\n",
       "| density              | 0.00202018094264871 |\n",
       "| pH                   | 0.104875482200402   |\n",
       "| sulphates            | 0.100819007991412   |\n",
       "| alcohol              | 1.51070600522876    |\n",
       "| quality              | 0.902801778382747   |\n",
       "\n"
      ],
      "text/plain": [
       "      columns_name         columns_std        \n",
       " [1,] fixed.acidity        1.20159757649383   \n",
       " [2,] volatile.acidity     0.0958482740553495 \n",
       " [3,] citric.acid          0.0490983714707635 \n",
       " [4,] residual.sugar       0.987915436504693  \n",
       " [5,] chlorides            0.0201106472439967 \n",
       " [6,] free.sulfur.dioxide  4.88809970575656   \n",
       " [7,] total.sulfur.dioxide 9.9657673762183    \n",
       " [8,] density              0.00202018094264871\n",
       " [9,] pH                   0.104875482200402  \n",
       "[10,] sulphates            0.100819007991412  \n",
       "[11,] alcohol              1.51070600522876   \n",
       "[12,] quality              0.902801778382747  "
      ]
     },
     "metadata": {},
     "output_type": "display_data"
    }
   ],
   "source": [
    "cat(\"Column's Standard Deviation: \\n\")\n",
    "\n",
    "columns_std = c(1:ncol(df))\n",
    "\n",
    "for (i in columns_index) {\n",
    "    columns_std[i] <- sd(df[,columns_name[i]])\n",
    "}\n",
    "\n",
    "cbind(columns_name, columns_std)"
   ]
  },
  {
   "cell_type": "markdown",
   "metadata": {},
   "source": [
    "#### *5. Variance*"
   ]
  },
  {
   "cell_type": "code",
   "execution_count": 25,
   "metadata": {
    "vscode": {
     "languageId": "r"
    }
   },
   "outputs": [
    {
     "name": "stdout",
     "output_type": "stream",
     "text": [
      "Column's Variance: \n"
     ]
    },
    {
     "data": {
      "text/html": [
       "<table class=\"dataframe\">\n",
       "<caption>A matrix: 12 × 2 of type chr</caption>\n",
       "<thead>\n",
       "\t<tr><th scope=col>columns_name</th><th scope=col>columns_var</th></tr>\n",
       "</thead>\n",
       "<tbody>\n",
       "\t<tr><td>fixed.acidity       </td><td>1.44383673583584    </td></tr>\n",
       "\t<tr><td>volatile.acidity    </td><td>0.00918689163938939 </td></tr>\n",
       "\t<tr><td>citric.acid         </td><td>0.00241065008108108 </td></tr>\n",
       "\t<tr><td>residual.sugar      </td><td>0.975976909684258   </td></tr>\n",
       "\t<tr><td>chlorides           </td><td>0.000404438132572474</td></tr>\n",
       "\t<tr><td>free.sulfur.dioxide </td><td>23.8935187334174    </td></tr>\n",
       "\t<tr><td>total.sulfur.dioxide</td><td>99.3165193968969    </td></tr>\n",
       "\t<tr><td>density             </td><td>4.08113104104104e-06</td></tr>\n",
       "\t<tr><td>pH                  </td><td>0.0109988667667668  </td></tr>\n",
       "\t<tr><td>sulphates           </td><td>0.0101644723723724  </td></tr>\n",
       "\t<tr><td>alcohol             </td><td>2.28223263423423    </td></tr>\n",
       "\t<tr><td>quality             </td><td>0.815051051051051   </td></tr>\n",
       "</tbody>\n",
       "</table>\n"
      ],
      "text/latex": [
       "A matrix: 12 × 2 of type chr\n",
       "\\begin{tabular}{ll}\n",
       " columns\\_name & columns\\_var\\\\\n",
       "\\hline\n",
       "\t fixed.acidity        & 1.44383673583584    \\\\\n",
       "\t volatile.acidity     & 0.00918689163938939 \\\\\n",
       "\t citric.acid          & 0.00241065008108108 \\\\\n",
       "\t residual.sugar       & 0.975976909684258   \\\\\n",
       "\t chlorides            & 0.000404438132572474\\\\\n",
       "\t free.sulfur.dioxide  & 23.8935187334174    \\\\\n",
       "\t total.sulfur.dioxide & 99.3165193968969    \\\\\n",
       "\t density              & 4.08113104104104e-06\\\\\n",
       "\t pH                   & 0.0109988667667668  \\\\\n",
       "\t sulphates            & 0.0101644723723724  \\\\\n",
       "\t alcohol              & 2.28223263423423    \\\\\n",
       "\t quality              & 0.815051051051051   \\\\\n",
       "\\end{tabular}\n"
      ],
      "text/markdown": [
       "\n",
       "A matrix: 12 × 2 of type chr\n",
       "\n",
       "| columns_name | columns_var |\n",
       "|---|---|\n",
       "| fixed.acidity        | 1.44383673583584     |\n",
       "| volatile.acidity     | 0.00918689163938939  |\n",
       "| citric.acid          | 0.00241065008108108  |\n",
       "| residual.sugar       | 0.975976909684258    |\n",
       "| chlorides            | 0.000404438132572474 |\n",
       "| free.sulfur.dioxide  | 23.8935187334174     |\n",
       "| total.sulfur.dioxide | 99.3165193968969     |\n",
       "| density              | 4.08113104104104e-06 |\n",
       "| pH                   | 0.0109988667667668   |\n",
       "| sulphates            | 0.0101644723723724   |\n",
       "| alcohol              | 2.28223263423423     |\n",
       "| quality              | 0.815051051051051    |\n",
       "\n"
      ],
      "text/plain": [
       "      columns_name         columns_var         \n",
       " [1,] fixed.acidity        1.44383673583584    \n",
       " [2,] volatile.acidity     0.00918689163938939 \n",
       " [3,] citric.acid          0.00241065008108108 \n",
       " [4,] residual.sugar       0.975976909684258   \n",
       " [5,] chlorides            0.000404438132572474\n",
       " [6,] free.sulfur.dioxide  23.8935187334174    \n",
       " [7,] total.sulfur.dioxide 99.3165193968969    \n",
       " [8,] density              4.08113104104104e-06\n",
       " [9,] pH                   0.0109988667667668  \n",
       "[10,] sulphates            0.0101644723723724  \n",
       "[11,] alcohol              2.28223263423423    \n",
       "[12,] quality              0.815051051051051   "
      ]
     },
     "metadata": {},
     "output_type": "display_data"
    }
   ],
   "source": [
    "cat(\"Column's Variance: \\n\")\n",
    "\n",
    "columns_var = c(1:ncol(df))\n",
    "\n",
    "for (i in columns_index) {\n",
    "    columns_var[i] <- sd(df[,columns_name[i]]) ^ 2\n",
    "}\n",
    "\n",
    "cbind(columns_name, columns_var)"
   ]
  },
  {
   "cell_type": "markdown",
   "metadata": {},
   "source": [
    "#### *6. Range*"
   ]
  },
  {
   "cell_type": "code",
   "execution_count": 26,
   "metadata": {
    "vscode": {
     "languageId": "r"
    }
   },
   "outputs": [
    {
     "name": "stdout",
     "output_type": "stream",
     "text": [
      "Column's Range: \n"
     ]
    },
    {
     "data": {
      "text/html": [
       "<table class=\"dataframe\">\n",
       "<caption>A matrix: 12 × 2 of type chr</caption>\n",
       "<thead>\n",
       "\t<tr><th scope=col>columns_name</th><th scope=col>columns_range</th></tr>\n",
       "</thead>\n",
       "<tbody>\n",
       "\t<tr><td>fixed.acidity       </td><td>8.17              </td></tr>\n",
       "\t<tr><td>volatile.acidity    </td><td>0.6652            </td></tr>\n",
       "\t<tr><td>citric.acid         </td><td>0.2929            </td></tr>\n",
       "\t<tr><td>residual.sugar      </td><td>5.51820040970786  </td></tr>\n",
       "\t<tr><td>chlorides           </td><td>0.125635130265349 </td></tr>\n",
       "\t<tr><td>free.sulfur.dioxide </td><td>27.2678469010989  </td></tr>\n",
       "\t<tr><td>total.sulfur.dioxide</td><td>66.81             </td></tr>\n",
       "\t<tr><td>density             </td><td>0.0137999999999999</td></tr>\n",
       "\t<tr><td>pH                  </td><td>0.74              </td></tr>\n",
       "\t<tr><td>sulphates           </td><td>0.67              </td></tr>\n",
       "\t<tr><td>alcohol             </td><td>8.99              </td></tr>\n",
       "\t<tr><td>quality             </td><td>5                 </td></tr>\n",
       "</tbody>\n",
       "</table>\n"
      ],
      "text/latex": [
       "A matrix: 12 × 2 of type chr\n",
       "\\begin{tabular}{ll}\n",
       " columns\\_name & columns\\_range\\\\\n",
       "\\hline\n",
       "\t fixed.acidity        & 8.17              \\\\\n",
       "\t volatile.acidity     & 0.6652            \\\\\n",
       "\t citric.acid          & 0.2929            \\\\\n",
       "\t residual.sugar       & 5.51820040970786  \\\\\n",
       "\t chlorides            & 0.125635130265349 \\\\\n",
       "\t free.sulfur.dioxide  & 27.2678469010989  \\\\\n",
       "\t total.sulfur.dioxide & 66.81             \\\\\n",
       "\t density              & 0.0137999999999999\\\\\n",
       "\t pH                   & 0.74              \\\\\n",
       "\t sulphates            & 0.67              \\\\\n",
       "\t alcohol              & 8.99              \\\\\n",
       "\t quality              & 5                 \\\\\n",
       "\\end{tabular}\n"
      ],
      "text/markdown": [
       "\n",
       "A matrix: 12 × 2 of type chr\n",
       "\n",
       "| columns_name | columns_range |\n",
       "|---|---|\n",
       "| fixed.acidity        | 8.17               |\n",
       "| volatile.acidity     | 0.6652             |\n",
       "| citric.acid          | 0.2929             |\n",
       "| residual.sugar       | 5.51820040970786   |\n",
       "| chlorides            | 0.125635130265349  |\n",
       "| free.sulfur.dioxide  | 27.2678469010989   |\n",
       "| total.sulfur.dioxide | 66.81              |\n",
       "| density              | 0.0137999999999999 |\n",
       "| pH                   | 0.74               |\n",
       "| sulphates            | 0.67               |\n",
       "| alcohol              | 8.99               |\n",
       "| quality              | 5                  |\n",
       "\n"
      ],
      "text/plain": [
       "      columns_name         columns_range     \n",
       " [1,] fixed.acidity        8.17              \n",
       " [2,] volatile.acidity     0.6652            \n",
       " [3,] citric.acid          0.2929            \n",
       " [4,] residual.sugar       5.51820040970786  \n",
       " [5,] chlorides            0.125635130265349 \n",
       " [6,] free.sulfur.dioxide  27.2678469010989  \n",
       " [7,] total.sulfur.dioxide 66.81             \n",
       " [8,] density              0.0137999999999999\n",
       " [9,] pH                   0.74              \n",
       "[10,] sulphates            0.67              \n",
       "[11,] alcohol              8.99              \n",
       "[12,] quality              5                 "
      ]
     },
     "metadata": {},
     "output_type": "display_data"
    }
   ],
   "source": [
    "cat(\"Column's Range: \\n\")\n",
    "\n",
    "columns_range = c(1:ncol(df))\n",
    "\n",
    "for (i in columns_index) {\n",
    "    columns_range[i] <- max(df[,columns_name[i]]) - min(df[,columns_name[i]])\n",
    "}\n",
    "\n",
    "cbind(columns_name, columns_range)"
   ]
  },
  {
   "cell_type": "markdown",
   "metadata": {},
   "source": [
    "#### *7. Minimum Value*"
   ]
  },
  {
   "cell_type": "code",
   "execution_count": 27,
   "metadata": {
    "vscode": {
     "languageId": "r"
    }
   },
   "outputs": [
    {
     "name": "stdout",
     "output_type": "stream",
     "text": [
      "Column's Minimum Value: \n"
     ]
    },
    {
     "data": {
      "text/html": [
       "<table class=\"dataframe\">\n",
       "<caption>A matrix: 12 × 2 of type chr</caption>\n",
       "<thead>\n",
       "\t<tr><th scope=col>columns_name</th><th scope=col>columns_min</th></tr>\n",
       "</thead>\n",
       "<tbody>\n",
       "\t<tr><td>fixed.acidity       </td><td>3.32              </td></tr>\n",
       "\t<tr><td>volatile.acidity    </td><td>0.1399            </td></tr>\n",
       "\t<tr><td>citric.acid         </td><td>0.1167            </td></tr>\n",
       "\t<tr><td>residual.sugar      </td><td>0.032554525015195 </td></tr>\n",
       "\t<tr><td>chlorides           </td><td>0.0151224391657095</td></tr>\n",
       "\t<tr><td>free.sulfur.dioxide </td><td>0.194678523326937 </td></tr>\n",
       "\t<tr><td>total.sulfur.dioxide</td><td>3.15              </td></tr>\n",
       "\t<tr><td>density             </td><td>0.9888            </td></tr>\n",
       "\t<tr><td>pH                  </td><td>2.97              </td></tr>\n",
       "\t<tr><td>sulphates           </td><td>0.29              </td></tr>\n",
       "\t<tr><td>alcohol             </td><td>6.03              </td></tr>\n",
       "\t<tr><td>quality             </td><td>5                 </td></tr>\n",
       "</tbody>\n",
       "</table>\n"
      ],
      "text/latex": [
       "A matrix: 12 × 2 of type chr\n",
       "\\begin{tabular}{ll}\n",
       " columns\\_name & columns\\_min\\\\\n",
       "\\hline\n",
       "\t fixed.acidity        & 3.32              \\\\\n",
       "\t volatile.acidity     & 0.1399            \\\\\n",
       "\t citric.acid          & 0.1167            \\\\\n",
       "\t residual.sugar       & 0.032554525015195 \\\\\n",
       "\t chlorides            & 0.0151224391657095\\\\\n",
       "\t free.sulfur.dioxide  & 0.194678523326937 \\\\\n",
       "\t total.sulfur.dioxide & 3.15              \\\\\n",
       "\t density              & 0.9888            \\\\\n",
       "\t pH                   & 2.97              \\\\\n",
       "\t sulphates            & 0.29              \\\\\n",
       "\t alcohol              & 6.03              \\\\\n",
       "\t quality              & 5                 \\\\\n",
       "\\end{tabular}\n"
      ],
      "text/markdown": [
       "\n",
       "A matrix: 12 × 2 of type chr\n",
       "\n",
       "| columns_name | columns_min |\n",
       "|---|---|\n",
       "| fixed.acidity        | 3.32               |\n",
       "| volatile.acidity     | 0.1399             |\n",
       "| citric.acid          | 0.1167             |\n",
       "| residual.sugar       | 0.032554525015195  |\n",
       "| chlorides            | 0.0151224391657095 |\n",
       "| free.sulfur.dioxide  | 0.194678523326937  |\n",
       "| total.sulfur.dioxide | 3.15               |\n",
       "| density              | 0.9888             |\n",
       "| pH                   | 2.97               |\n",
       "| sulphates            | 0.29               |\n",
       "| alcohol              | 6.03               |\n",
       "| quality              | 5                  |\n",
       "\n"
      ],
      "text/plain": [
       "      columns_name         columns_min       \n",
       " [1,] fixed.acidity        3.32              \n",
       " [2,] volatile.acidity     0.1399            \n",
       " [3,] citric.acid          0.1167            \n",
       " [4,] residual.sugar       0.032554525015195 \n",
       " [5,] chlorides            0.0151224391657095\n",
       " [6,] free.sulfur.dioxide  0.194678523326937 \n",
       " [7,] total.sulfur.dioxide 3.15              \n",
       " [8,] density              0.9888            \n",
       " [9,] pH                   2.97              \n",
       "[10,] sulphates            0.29              \n",
       "[11,] alcohol              6.03              \n",
       "[12,] quality              5                 "
      ]
     },
     "metadata": {},
     "output_type": "display_data"
    }
   ],
   "source": [
    "cat(\"Column's Minimum Value: \\n\")\n",
    "\n",
    "columns_min = c(1:ncol(df))\n",
    "\n",
    "for (i in columns_index) {\n",
    "    columns_min[i] <- min(df[,columns_name[i]])\n",
    "}\n",
    "\n",
    "cbind(columns_name, columns_min)"
   ]
  },
  {
   "cell_type": "markdown",
   "metadata": {},
   "source": [
    "#### *8. Maximum Value*"
   ]
  },
  {
   "cell_type": "code",
   "execution_count": 28,
   "metadata": {
    "vscode": {
     "languageId": "r"
    }
   },
   "outputs": [
    {
     "name": "stdout",
     "output_type": "stream",
     "text": [
      "Column's Maximum Value: \n"
     ]
    },
    {
     "data": {
      "text/html": [
       "<table class=\"dataframe\">\n",
       "<caption>A matrix: 12 × 2 of type chr</caption>\n",
       "<thead>\n",
       "\t<tr><th scope=col>columns_name</th><th scope=col>columns_max</th></tr>\n",
       "</thead>\n",
       "<tbody>\n",
       "\t<tr><td>fixed.acidity       </td><td>11.49            </td></tr>\n",
       "\t<tr><td>volatile.acidity    </td><td>0.8051           </td></tr>\n",
       "\t<tr><td>citric.acid         </td><td>0.4096           </td></tr>\n",
       "\t<tr><td>residual.sugar      </td><td>5.55075493472306 </td></tr>\n",
       "\t<tr><td>chlorides           </td><td>0.140757569431058</td></tr>\n",
       "\t<tr><td>free.sulfur.dioxide </td><td>27.4625254244258 </td></tr>\n",
       "\t<tr><td>total.sulfur.dioxide</td><td>69.96            </td></tr>\n",
       "\t<tr><td>density             </td><td>1.0026           </td></tr>\n",
       "\t<tr><td>pH                  </td><td>3.71             </td></tr>\n",
       "\t<tr><td>sulphates           </td><td>0.96             </td></tr>\n",
       "\t<tr><td>alcohol             </td><td>15.02            </td></tr>\n",
       "\t<tr><td>quality             </td><td>10               </td></tr>\n",
       "</tbody>\n",
       "</table>\n"
      ],
      "text/latex": [
       "A matrix: 12 × 2 of type chr\n",
       "\\begin{tabular}{ll}\n",
       " columns\\_name & columns\\_max\\\\\n",
       "\\hline\n",
       "\t fixed.acidity        & 11.49            \\\\\n",
       "\t volatile.acidity     & 0.8051           \\\\\n",
       "\t citric.acid          & 0.4096           \\\\\n",
       "\t residual.sugar       & 5.55075493472306 \\\\\n",
       "\t chlorides            & 0.140757569431058\\\\\n",
       "\t free.sulfur.dioxide  & 27.4625254244258 \\\\\n",
       "\t total.sulfur.dioxide & 69.96            \\\\\n",
       "\t density              & 1.0026           \\\\\n",
       "\t pH                   & 3.71             \\\\\n",
       "\t sulphates            & 0.96             \\\\\n",
       "\t alcohol              & 15.02            \\\\\n",
       "\t quality              & 10               \\\\\n",
       "\\end{tabular}\n"
      ],
      "text/markdown": [
       "\n",
       "A matrix: 12 × 2 of type chr\n",
       "\n",
       "| columns_name | columns_max |\n",
       "|---|---|\n",
       "| fixed.acidity        | 11.49             |\n",
       "| volatile.acidity     | 0.8051            |\n",
       "| citric.acid          | 0.4096            |\n",
       "| residual.sugar       | 5.55075493472306  |\n",
       "| chlorides            | 0.140757569431058 |\n",
       "| free.sulfur.dioxide  | 27.4625254244258  |\n",
       "| total.sulfur.dioxide | 69.96             |\n",
       "| density              | 1.0026            |\n",
       "| pH                   | 3.71              |\n",
       "| sulphates            | 0.96              |\n",
       "| alcohol              | 15.02             |\n",
       "| quality              | 10                |\n",
       "\n"
      ],
      "text/plain": [
       "      columns_name         columns_max      \n",
       " [1,] fixed.acidity        11.49            \n",
       " [2,] volatile.acidity     0.8051           \n",
       " [3,] citric.acid          0.4096           \n",
       " [4,] residual.sugar       5.55075493472306 \n",
       " [5,] chlorides            0.140757569431058\n",
       " [6,] free.sulfur.dioxide  27.4625254244258 \n",
       " [7,] total.sulfur.dioxide 69.96            \n",
       " [8,] density              1.0026           \n",
       " [9,] pH                   3.71             \n",
       "[10,] sulphates            0.96             \n",
       "[11,] alcohol              15.02            \n",
       "[12,] quality              10               "
      ]
     },
     "metadata": {},
     "output_type": "display_data"
    }
   ],
   "source": [
    "cat(\"Column's Maximum Value: \\n\")\n",
    "\n",
    "columns_max = c(1:ncol(df))\n",
    "\n",
    "for (i in columns_index) {\n",
    "    columns_max[i] <- max(df[,columns_name[i]])\n",
    "}\n",
    "\n",
    "cbind(columns_name, columns_max)"
   ]
  },
  {
   "cell_type": "markdown",
   "metadata": {},
   "source": [
    "#### *9. Quartile*"
   ]
  },
  {
   "cell_type": "code",
   "execution_count": 29,
   "metadata": {
    "vscode": {
     "languageId": "r"
    }
   },
   "outputs": [
    {
     "name": "stdout",
     "output_type": "stream",
     "text": [
      "Column's Quartiles: \n"
     ]
    },
    {
     "data": {
      "text/html": [
       "<table class=\"dataframe\">\n",
       "<caption>A matrix: 12 × 4 of type chr</caption>\n",
       "<thead>\n",
       "\t<tr><th scope=col>columns_name</th><th scope=col>columns_q25</th><th scope=col>columns_q50</th><th scope=col>columns_q75</th></tr>\n",
       "</thead>\n",
       "<tbody>\n",
       "\t<tr><td>fixed.acidity       </td><td>6.3775            </td><td>7.15              </td><td>8                 </td></tr>\n",
       "\t<tr><td>volatile.acidity    </td><td>0.4561            </td><td>0.52485           </td><td>0.585375          </td></tr>\n",
       "\t<tr><td>citric.acid         </td><td>0.2378            </td><td>0.2722            </td><td>0.302325          </td></tr>\n",
       "\t<tr><td>residual.sugar      </td><td>1.89632994348868  </td><td>2.51943027286579  </td><td>3.22087348282979  </td></tr>\n",
       "\t<tr><td>chlorides           </td><td>0.0665736319097736</td><td>0.0821669021645236</td><td>0.0953115014855626</td></tr>\n",
       "\t<tr><td>free.sulfur.dioxide </td><td>11.4267169494576  </td><td>14.8603462365689  </td><td>18.313097915395   </td></tr>\n",
       "\t<tr><td>total.sulfur.dioxide</td><td>33.785            </td><td>40.19             </td><td>47.0225           </td></tr>\n",
       "\t<tr><td>density             </td><td>0.9946            </td><td>0.996             </td><td>0.9972            </td></tr>\n",
       "\t<tr><td>pH                  </td><td>3.23              </td><td>3.3               </td><td>3.37              </td></tr>\n",
       "\t<tr><td>sulphates           </td><td>0.53              </td><td>0.595             </td><td>0.67              </td></tr>\n",
       "\t<tr><td>alcohol             </td><td>9.56              </td><td>10.61             </td><td>11.6225           </td></tr>\n",
       "\t<tr><td>quality             </td><td>7                 </td><td>8                 </td><td>9                 </td></tr>\n",
       "</tbody>\n",
       "</table>\n"
      ],
      "text/latex": [
       "A matrix: 12 × 4 of type chr\n",
       "\\begin{tabular}{llll}\n",
       " columns\\_name & columns\\_q25 & columns\\_q50 & columns\\_q75\\\\\n",
       "\\hline\n",
       "\t fixed.acidity        & 6.3775             & 7.15               & 8                 \\\\\n",
       "\t volatile.acidity     & 0.4561             & 0.52485            & 0.585375          \\\\\n",
       "\t citric.acid          & 0.2378             & 0.2722             & 0.302325          \\\\\n",
       "\t residual.sugar       & 1.89632994348868   & 2.51943027286579   & 3.22087348282979  \\\\\n",
       "\t chlorides            & 0.0665736319097736 & 0.0821669021645236 & 0.0953115014855626\\\\\n",
       "\t free.sulfur.dioxide  & 11.4267169494576   & 14.8603462365689   & 18.313097915395   \\\\\n",
       "\t total.sulfur.dioxide & 33.785             & 40.19              & 47.0225           \\\\\n",
       "\t density              & 0.9946             & 0.996              & 0.9972            \\\\\n",
       "\t pH                   & 3.23               & 3.3                & 3.37              \\\\\n",
       "\t sulphates            & 0.53               & 0.595              & 0.67              \\\\\n",
       "\t alcohol              & 9.56               & 10.61              & 11.6225           \\\\\n",
       "\t quality              & 7                  & 8                  & 9                 \\\\\n",
       "\\end{tabular}\n"
      ],
      "text/markdown": [
       "\n",
       "A matrix: 12 × 4 of type chr\n",
       "\n",
       "| columns_name | columns_q25 | columns_q50 | columns_q75 |\n",
       "|---|---|---|---|\n",
       "| fixed.acidity        | 6.3775             | 7.15               | 8                  |\n",
       "| volatile.acidity     | 0.4561             | 0.52485            | 0.585375           |\n",
       "| citric.acid          | 0.2378             | 0.2722             | 0.302325           |\n",
       "| residual.sugar       | 1.89632994348868   | 2.51943027286579   | 3.22087348282979   |\n",
       "| chlorides            | 0.0665736319097736 | 0.0821669021645236 | 0.0953115014855626 |\n",
       "| free.sulfur.dioxide  | 11.4267169494576   | 14.8603462365689   | 18.313097915395    |\n",
       "| total.sulfur.dioxide | 33.785             | 40.19              | 47.0225            |\n",
       "| density              | 0.9946             | 0.996              | 0.9972             |\n",
       "| pH                   | 3.23               | 3.3                | 3.37               |\n",
       "| sulphates            | 0.53               | 0.595              | 0.67               |\n",
       "| alcohol              | 9.56               | 10.61              | 11.6225            |\n",
       "| quality              | 7                  | 8                  | 9                  |\n",
       "\n"
      ],
      "text/plain": [
       "      columns_name         columns_q25        columns_q50       \n",
       " [1,] fixed.acidity        6.3775             7.15              \n",
       " [2,] volatile.acidity     0.4561             0.52485           \n",
       " [3,] citric.acid          0.2378             0.2722            \n",
       " [4,] residual.sugar       1.89632994348868   2.51943027286579  \n",
       " [5,] chlorides            0.0665736319097736 0.0821669021645236\n",
       " [6,] free.sulfur.dioxide  11.4267169494576   14.8603462365689  \n",
       " [7,] total.sulfur.dioxide 33.785             40.19             \n",
       " [8,] density              0.9946             0.996             \n",
       " [9,] pH                   3.23               3.3               \n",
       "[10,] sulphates            0.53               0.595             \n",
       "[11,] alcohol              9.56               10.61             \n",
       "[12,] quality              7                  8                 \n",
       "      columns_q75       \n",
       " [1,] 8                 \n",
       " [2,] 0.585375          \n",
       " [3,] 0.302325          \n",
       " [4,] 3.22087348282979  \n",
       " [5,] 0.0953115014855626\n",
       " [6,] 18.313097915395   \n",
       " [7,] 47.0225           \n",
       " [8,] 0.9972            \n",
       " [9,] 3.37              \n",
       "[10,] 0.67              \n",
       "[11,] 11.6225           \n",
       "[12,] 9                 "
      ]
     },
     "metadata": {},
     "output_type": "display_data"
    }
   ],
   "source": [
    "cat(\"Column's Quartiles: \\n\")\n",
    "\n",
    "columns_q25 = c(1:ncol(df))\n",
    "columns_q50 = c(1:ncol(df))\n",
    "columns_q75 = c(1:ncol(df))\n",
    "\n",
    "for (i in columns_index) {\n",
    "    columns_q25[i] <- quantile(df[,columns_name[i]], probs= 0.25)\n",
    "    columns_q50[i] <- quantile(df[,columns_name[i]], probs= 0.5)\n",
    "    columns_q75[i] <- quantile(df[,columns_name[i]], probs= 0.75)\n",
    "}\n",
    "\n",
    "cbind(columns_name, columns_q25, columns_q50, columns_q75)"
   ]
  },
  {
   "cell_type": "markdown",
   "metadata": {},
   "source": [
    "#### *10. Interquartile Range*"
   ]
  },
  {
   "cell_type": "code",
   "execution_count": 30,
   "metadata": {
    "vscode": {
     "languageId": "r"
    }
   },
   "outputs": [
    {
     "name": "stdout",
     "output_type": "stream",
     "text": [
      "Column's Interquartiles Range: \n"
     ]
    },
    {
     "data": {
      "text/html": [
       "<table class=\"dataframe\">\n",
       "<caption>A matrix: 12 × 2 of type chr</caption>\n",
       "<thead>\n",
       "\t<tr><th scope=col>columns_name</th><th scope=col>columns_qrange</th></tr>\n",
       "</thead>\n",
       "<tbody>\n",
       "\t<tr><td>fixed.acidity       </td><td>1.6225             </td></tr>\n",
       "\t<tr><td>volatile.acidity    </td><td>0.129275           </td></tr>\n",
       "\t<tr><td>citric.acid         </td><td>0.064525           </td></tr>\n",
       "\t<tr><td>residual.sugar      </td><td>1.3245435393411    </td></tr>\n",
       "\t<tr><td>chlorides           </td><td>0.028737869575789  </td></tr>\n",
       "\t<tr><td>free.sulfur.dioxide </td><td>6.88638096593739   </td></tr>\n",
       "\t<tr><td>total.sulfur.dioxide</td><td>13.2375            </td></tr>\n",
       "\t<tr><td>density             </td><td>0.00259999999999994</td></tr>\n",
       "\t<tr><td>pH                  </td><td>0.14               </td></tr>\n",
       "\t<tr><td>sulphates           </td><td>0.14               </td></tr>\n",
       "\t<tr><td>alcohol             </td><td>2.0625             </td></tr>\n",
       "\t<tr><td>quality             </td><td>2                  </td></tr>\n",
       "</tbody>\n",
       "</table>\n"
      ],
      "text/latex": [
       "A matrix: 12 × 2 of type chr\n",
       "\\begin{tabular}{ll}\n",
       " columns\\_name & columns\\_qrange\\\\\n",
       "\\hline\n",
       "\t fixed.acidity        & 1.6225             \\\\\n",
       "\t volatile.acidity     & 0.129275           \\\\\n",
       "\t citric.acid          & 0.064525           \\\\\n",
       "\t residual.sugar       & 1.3245435393411    \\\\\n",
       "\t chlorides            & 0.028737869575789  \\\\\n",
       "\t free.sulfur.dioxide  & 6.88638096593739   \\\\\n",
       "\t total.sulfur.dioxide & 13.2375            \\\\\n",
       "\t density              & 0.00259999999999994\\\\\n",
       "\t pH                   & 0.14               \\\\\n",
       "\t sulphates            & 0.14               \\\\\n",
       "\t alcohol              & 2.0625             \\\\\n",
       "\t quality              & 2                  \\\\\n",
       "\\end{tabular}\n"
      ],
      "text/markdown": [
       "\n",
       "A matrix: 12 × 2 of type chr\n",
       "\n",
       "| columns_name | columns_qrange |\n",
       "|---|---|\n",
       "| fixed.acidity        | 1.6225              |\n",
       "| volatile.acidity     | 0.129275            |\n",
       "| citric.acid          | 0.064525            |\n",
       "| residual.sugar       | 1.3245435393411     |\n",
       "| chlorides            | 0.028737869575789   |\n",
       "| free.sulfur.dioxide  | 6.88638096593739    |\n",
       "| total.sulfur.dioxide | 13.2375             |\n",
       "| density              | 0.00259999999999994 |\n",
       "| pH                   | 0.14                |\n",
       "| sulphates            | 0.14                |\n",
       "| alcohol              | 2.0625              |\n",
       "| quality              | 2                   |\n",
       "\n"
      ],
      "text/plain": [
       "      columns_name         columns_qrange     \n",
       " [1,] fixed.acidity        1.6225             \n",
       " [2,] volatile.acidity     0.129275           \n",
       " [3,] citric.acid          0.064525           \n",
       " [4,] residual.sugar       1.3245435393411    \n",
       " [5,] chlorides            0.028737869575789  \n",
       " [6,] free.sulfur.dioxide  6.88638096593739   \n",
       " [7,] total.sulfur.dioxide 13.2375            \n",
       " [8,] density              0.00259999999999994\n",
       " [9,] pH                   0.14               \n",
       "[10,] sulphates            0.14               \n",
       "[11,] alcohol              2.0625             \n",
       "[12,] quality              2                  "
      ]
     },
     "metadata": {},
     "output_type": "display_data"
    }
   ],
   "source": [
    "cat(\"Column's Interquartiles Range: \\n\")\n",
    "\n",
    "columns_qrange = c(1:ncol(df))\n",
    "\n",
    "for (i in columns_index) {\n",
    "    tempQuantile <- quantile(df[,columns_name[i]], probs= c(0.25, 0.75))\n",
    "    columns_qrange[i] <- tempQuantile[2] - tempQuantile[1]\n",
    "}\n",
    "\n",
    "cbind(columns_name, columns_qrange)"
   ]
  },
  {
   "cell_type": "markdown",
   "metadata": {},
   "source": [
    "#### *11. Skewness*"
   ]
  },
  {
   "cell_type": "code",
   "execution_count": 40,
   "metadata": {
    "vscode": {
     "languageId": "r"
    }
   },
   "outputs": [
    {
     "name": "stdout",
     "output_type": "stream",
     "text": [
      "Column's Skewness: \n"
     ]
    },
    {
     "data": {
      "text/html": [
       "<table class=\"dataframe\">\n",
       "<caption>A matrix: 12 × 2 of type chr</caption>\n",
       "<thead>\n",
       "\t<tr><th scope=col>columns_name</th><th scope=col>columns_skewness</th></tr>\n",
       "</thead>\n",
       "<tbody>\n",
       "\t<tr><td>fixed.acidity       </td><td>-0.0287919975632131</td></tr>\n",
       "\t<tr><td>volatile.acidity    </td><td>-0.197105997910775 </td></tr>\n",
       "\t<tr><td>citric.acid         </td><td>-0.045439421661083 </td></tr>\n",
       "\t<tr><td>residual.sugar      </td><td>0.132240437207526  </td></tr>\n",
       "\t<tr><td>chlorides           </td><td>-0.0511654421670584</td></tr>\n",
       "\t<tr><td>free.sulfur.dioxide </td><td>0.0071090390040008 </td></tr>\n",
       "\t<tr><td>total.sulfur.dioxide</td><td>-0.0239878948518848</td></tr>\n",
       "\t<tr><td>density             </td><td>-0.0766522945530875</td></tr>\n",
       "\t<tr><td>pH                  </td><td>0.147229872668135  </td></tr>\n",
       "\t<tr><td>sulphates           </td><td>0.148751602565093  </td></tr>\n",
       "\t<tr><td>alcohol             </td><td>-0.0189344680909653</td></tr>\n",
       "\t<tr><td>quality             </td><td>-0.0887871070594255</td></tr>\n",
       "</tbody>\n",
       "</table>\n"
      ],
      "text/latex": [
       "A matrix: 12 × 2 of type chr\n",
       "\\begin{tabular}{ll}\n",
       " columns\\_name & columns\\_skewness\\\\\n",
       "\\hline\n",
       "\t fixed.acidity        & -0.0287919975632131\\\\\n",
       "\t volatile.acidity     & -0.197105997910775 \\\\\n",
       "\t citric.acid          & -0.045439421661083 \\\\\n",
       "\t residual.sugar       & 0.132240437207526  \\\\\n",
       "\t chlorides            & -0.0511654421670584\\\\\n",
       "\t free.sulfur.dioxide  & 0.0071090390040008 \\\\\n",
       "\t total.sulfur.dioxide & -0.0239878948518848\\\\\n",
       "\t density              & -0.0766522945530875\\\\\n",
       "\t pH                   & 0.147229872668135  \\\\\n",
       "\t sulphates            & 0.148751602565093  \\\\\n",
       "\t alcohol              & -0.0189344680909653\\\\\n",
       "\t quality              & -0.0887871070594255\\\\\n",
       "\\end{tabular}\n"
      ],
      "text/markdown": [
       "\n",
       "A matrix: 12 × 2 of type chr\n",
       "\n",
       "| columns_name | columns_skewness |\n",
       "|---|---|\n",
       "| fixed.acidity        | -0.0287919975632131 |\n",
       "| volatile.acidity     | -0.197105997910775  |\n",
       "| citric.acid          | -0.045439421661083  |\n",
       "| residual.sugar       | 0.132240437207526   |\n",
       "| chlorides            | -0.0511654421670584 |\n",
       "| free.sulfur.dioxide  | 0.0071090390040008  |\n",
       "| total.sulfur.dioxide | -0.0239878948518848 |\n",
       "| density              | -0.0766522945530875 |\n",
       "| pH                   | 0.147229872668135   |\n",
       "| sulphates            | 0.148751602565093   |\n",
       "| alcohol              | -0.0189344680909653 |\n",
       "| quality              | -0.0887871070594255 |\n",
       "\n"
      ],
      "text/plain": [
       "      columns_name         columns_skewness   \n",
       " [1,] fixed.acidity        -0.0287919975632131\n",
       " [2,] volatile.acidity     -0.197105997910775 \n",
       " [3,] citric.acid          -0.045439421661083 \n",
       " [4,] residual.sugar       0.132240437207526  \n",
       " [5,] chlorides            -0.0511654421670584\n",
       " [6,] free.sulfur.dioxide  0.0071090390040008 \n",
       " [7,] total.sulfur.dioxide -0.0239878948518848\n",
       " [8,] density              -0.0766522945530875\n",
       " [9,] pH                   0.147229872668135  \n",
       "[10,] sulphates            0.148751602565093  \n",
       "[11,] alcohol              -0.0189344680909653\n",
       "[12,] quality              -0.0887871070594255"
      ]
     },
     "metadata": {},
     "output_type": "display_data"
    }
   ],
   "source": [
    "cat(\"Column's Skewness: \\n\")\n",
    "\n",
    "columns_skewness = c(1:ncol(df))\n",
    "\n",
    "for (i in columns_index){\n",
    "    tempMean <- mean(df[,columns_name[i]])\n",
    "    tempStddev <- sd(df[,columns_name[i]])\n",
    "    count <- 0\n",
    "    for (j in c(1:nrow(df))){\n",
    "        count <- count + (df[j, columns_name[i]] - tempMean) ^3\n",
    "    }\n",
    "    columns_skewness[i] <- count / (nrow(df) * (tempStddev ^3))\n",
    "}\n",
    "\n",
    "cbind(columns_name, columns_skewness)\n"
   ]
  },
  {
   "cell_type": "markdown",
   "metadata": {},
   "source": [
    "#### *12. Kurtosis*"
   ]
  },
  {
   "cell_type": "code",
   "execution_count": 41,
   "metadata": {
    "vscode": {
     "languageId": "r"
    }
   },
   "outputs": [
    {
     "name": "stdout",
     "output_type": "stream",
     "text": [
      "Column's Kurtosis: \n"
     ]
    },
    {
     "data": {
      "text/html": [
       "<table class=\"dataframe\">\n",
       "<caption>A matrix: 12 × 2 of type chr</caption>\n",
       "<thead>\n",
       "\t<tr><th scope=col>columns_name</th><th scope=col>columns_kurtosis</th></tr>\n",
       "</thead>\n",
       "<tbody>\n",
       "\t<tr><td>fixed.acidity       </td><td>0.00319356825158421 </td></tr>\n",
       "\t<tr><td>volatile.acidity    </td><td>0.0037188341750789  </td></tr>\n",
       "\t<tr><td>citric.acid         </td><td>0.000405317501750439</td></tr>\n",
       "\t<tr><td>residual.sugar      </td><td>0.163503125694774   </td></tr>\n",
       "\t<tr><td>chlorides           </td><td>7.51664840267219e-05</td></tr>\n",
       "\t<tr><td>free.sulfur.dioxide </td><td>0.0348513172354996  </td></tr>\n",
       "\t<tr><td>total.sulfur.dioxide</td><td>0.0120109531499984  </td></tr>\n",
       "\t<tr><td>density             </td><td>2.43551052388301e-06</td></tr>\n",
       "\t<tr><td>pH                  </td><td>6.40803902780569e-06</td></tr>\n",
       "\t<tr><td>sulphates           </td><td>0.0046439783546415  </td></tr>\n",
       "\t<tr><td>alcohol             </td><td>0.00144126338351952 </td></tr>\n",
       "\t<tr><td>quality             </td><td>0.000670526946596169</td></tr>\n",
       "</tbody>\n",
       "</table>\n"
      ],
      "text/latex": [
       "A matrix: 12 × 2 of type chr\n",
       "\\begin{tabular}{ll}\n",
       " columns\\_name & columns\\_kurtosis\\\\\n",
       "\\hline\n",
       "\t fixed.acidity        & 0.00319356825158421 \\\\\n",
       "\t volatile.acidity     & 0.0037188341750789  \\\\\n",
       "\t citric.acid          & 0.000405317501750439\\\\\n",
       "\t residual.sugar       & 0.163503125694774   \\\\\n",
       "\t chlorides            & 7.51664840267219e-05\\\\\n",
       "\t free.sulfur.dioxide  & 0.0348513172354996  \\\\\n",
       "\t total.sulfur.dioxide & 0.0120109531499984  \\\\\n",
       "\t density              & 2.43551052388301e-06\\\\\n",
       "\t pH                   & 6.40803902780569e-06\\\\\n",
       "\t sulphates            & 0.0046439783546415  \\\\\n",
       "\t alcohol              & 0.00144126338351952 \\\\\n",
       "\t quality              & 0.000670526946596169\\\\\n",
       "\\end{tabular}\n"
      ],
      "text/markdown": [
       "\n",
       "A matrix: 12 × 2 of type chr\n",
       "\n",
       "| columns_name | columns_kurtosis |\n",
       "|---|---|\n",
       "| fixed.acidity        | 0.00319356825158421  |\n",
       "| volatile.acidity     | 0.0037188341750789   |\n",
       "| citric.acid          | 0.000405317501750439 |\n",
       "| residual.sugar       | 0.163503125694774    |\n",
       "| chlorides            | 7.51664840267219e-05 |\n",
       "| free.sulfur.dioxide  | 0.0348513172354996   |\n",
       "| total.sulfur.dioxide | 0.0120109531499984   |\n",
       "| density              | 2.43551052388301e-06 |\n",
       "| pH                   | 6.40803902780569e-06 |\n",
       "| sulphates            | 0.0046439783546415   |\n",
       "| alcohol              | 0.00144126338351952  |\n",
       "| quality              | 0.000670526946596169 |\n",
       "\n"
      ],
      "text/plain": [
       "      columns_name         columns_kurtosis    \n",
       " [1,] fixed.acidity        0.00319356825158421 \n",
       " [2,] volatile.acidity     0.0037188341750789  \n",
       " [3,] citric.acid          0.000405317501750439\n",
       " [4,] residual.sugar       0.163503125694774   \n",
       " [5,] chlorides            7.51664840267219e-05\n",
       " [6,] free.sulfur.dioxide  0.0348513172354996  \n",
       " [7,] total.sulfur.dioxide 0.0120109531499984  \n",
       " [8,] density              2.43551052388301e-06\n",
       " [9,] pH                   6.40803902780569e-06\n",
       "[10,] sulphates            0.0046439783546415  \n",
       "[11,] alcohol              0.00144126338351952 \n",
       "[12,] quality              0.000670526946596169"
      ]
     },
     "metadata": {},
     "output_type": "display_data"
    }
   ],
   "source": [
    "cat(\"Column's Kurtosis: \\n\")\n",
    "\n",
    "columns_kurtosis = c(1:ncol(df))\n",
    "\n",
    "for (i in columns_index){\n",
    "    tempMean <- mean(df[,columns_name[i]])\n",
    "    numerator <- 0\n",
    "    denominator <- 0\n",
    "    for (j in c(1:nrow(df))){\n",
    "        numerator <- numerator + (df[j, columns_name[i]] - tempMean) ^ 4\n",
    "    }\n",
    "    for (j in c(1:nrow(df))){\n",
    "        denominator <- denominator + (df[j, columns_name[i]] - (tempMean^2))^2\n",
    "    }\n",
    "    columns_kurtosis[i] <- numerator / denominator \n",
    "}\n",
    "\n",
    "cbind(columns_name, columns_kurtosis)\n"
   ]
  }
 ],
 "metadata": {
  "kernelspec": {
   "display_name": "R",
   "language": "R",
   "name": "ir"
  },
  "language_info": {
   "codemirror_mode": "r",
   "file_extension": ".r",
   "mimetype": "text/x-r-source",
   "name": "R",
   "pygments_lexer": "r",
   "version": "4.2.3"
  }
 },
 "nbformat": 4,
 "nbformat_minor": 2
}
